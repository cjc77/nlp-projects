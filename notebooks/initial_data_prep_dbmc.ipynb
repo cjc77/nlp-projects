{
 "cells": [
  {
   "cell_type": "code",
   "execution_count": 1,
   "id": "c860716b-f303-485f-b4b5-03bb45649231",
   "metadata": {},
   "outputs": [],
   "source": [
    "import multiprocessing\n",
    "import html\n",
    "import re\n",
    "import yaml\n",
    "from pathlib import Path\n",
    "\n",
    "import torch\n",
    "from datasets import load_dataset\n",
    "from transformers import AutoTokenizer"
   ]
  },
  {
   "cell_type": "code",
   "execution_count": 2,
   "id": "5b266c8d-cab5-4466-85b0-2019f5f6e3c7",
   "metadata": {},
   "outputs": [],
   "source": [
    "num_cores_avail = max(1, multiprocessing.cpu_count() - 1)"
   ]
  },
  {
   "cell_type": "code",
   "execution_count": 3,
   "id": "6b37a0ab-3b83-453e-96be-c771bae222c5",
   "metadata": {},
   "outputs": [],
   "source": [
    "dataset_checkpoint = \"mattismegevand/pitchfork\"\n",
    "dataset_checkpoint_revision = \"4d88fdd126d4dc1aa70ac0dbee25fd0020dd9690\"\n",
    "\n",
    "# model_checkpoint = \"distilbert-base-cased\"\n",
    "# model_checkpoint_revision = \"0dacbb01d604f8adeeb5b87c9339e485ac40d5c0\"\n",
    "\n",
    "model_checkpoint = \"distilbert-base-multilingual-cased\"\n",
    "model_checkpoint_revision = \"9e90d6dd84b6a2e4d65e4d751baed6cd56578fd3\""
   ]
  },
  {
   "cell_type": "code",
   "execution_count": 4,
   "id": "0bd6ad7b-1852-4435-b069-883bef363648",
   "metadata": {},
   "outputs": [],
   "source": [
    "tokenizer = AutoTokenizer.from_pretrained(\n",
    "    model_checkpoint,\n",
    "    revision=model_checkpoint_revision\n",
    ")"
   ]
  },
  {
   "cell_type": "code",
   "execution_count": 5,
   "id": "0d287c54-85f8-42d9-bbb1-05a8c4d1c634",
   "metadata": {},
   "outputs": [],
   "source": [
    "# Make sure to specify \"reviews.csv\" since it will default to album images\n",
    "raw_datasets = load_dataset(\n",
    "    dataset_checkpoint,\n",
    "    revision=dataset_checkpoint_revision,\n",
    "    data_files=[\"reviews.csv\"]\n",
    ")"
   ]
  },
  {
   "cell_type": "code",
   "execution_count": 6,
   "id": "48d4df6f-b365-4e21-ac36-bf71bc985d7c",
   "metadata": {},
   "outputs": [
    {
     "data": {
      "text/plain": [
       "DatasetDict({\n",
       "    train: Dataset({\n",
       "        features: ['artist', 'album', 'year_released', 'rating', 'small_text', 'review', 'reviewer', 'genre', 'label', 'reviewed', 'album_art_url'],\n",
       "        num_rows: 25709\n",
       "    })\n",
       "})"
      ]
     },
     "execution_count": 6,
     "metadata": {},
     "output_type": "execute_result"
    }
   ],
   "source": [
    "raw_datasets"
   ]
  },
  {
   "cell_type": "code",
   "execution_count": 7,
   "id": "423ff026-2f45-46d7-8b12-b9bd576dbecf",
   "metadata": {},
   "outputs": [],
   "source": [
    "dataset = raw_datasets[\"train\"]"
   ]
  },
  {
   "cell_type": "markdown",
   "id": "b5ea7f4d-efae-4e28-b60e-14ff62f5ad79",
   "metadata": {},
   "source": [
    "# Clean raw dataset"
   ]
  },
  {
   "cell_type": "code",
   "execution_count": 8,
   "id": "feb7ed23-bbb6-4de3-92d1-62ebb182c3cb",
   "metadata": {},
   "outputs": [],
   "source": [
    "def detect_nonstring(examples):\n",
    "    is_string = []\n",
    "    for artist, album, review, reviewer in zip(examples[\"artist\"], examples[\"album\"], examples[\"review\"], examples[\"reviewer\"]):\n",
    "        is_string_ = isinstance(artist, str)\n",
    "        is_string_ &= isinstance(album, str)\n",
    "        is_string_ &= isinstance(review, str)\n",
    "        is_string_ &= isinstance(reviewer, str)\n",
    "        is_string.append(is_string_)\n",
    "    return is_string\n",
    "\n",
    "\n",
    "def get_review_n_tokens(examples):\n",
    "    inputs = tokenizer(examples[\"review\"], truncation=False)\n",
    "    review_n_tokens = [len(inp_ids) for inp_ids in inputs.input_ids]\n",
    "    input_ids = inputs.input_ids\n",
    "    return {\"review_n_tokens\": review_n_tokens}\n",
    "\n",
    "\n",
    "def unk_detect_batched(examples):\n",
    "    batch_artist_ids = tokenizer(examples[\"artist\"]).input_ids\n",
    "    batch_album_ids = tokenizer(examples[\"album\"]).input_ids\n",
    "    unk_markers = []\n",
    "    for artist_ids, album_ids in zip(batch_artist_ids, batch_album_ids):\n",
    "        if (tokenizer.unk_token_id in artist_ids) or (tokenizer.unk_token_id in album_ids):\n",
    "            unk_markers.append(True)\n",
    "        else:\n",
    "            unk_markers.append(False)\n",
    "    return unk_markers\n",
    "\n",
    "\n",
    "curly_lsquote = '\\u2018'\n",
    "curly_rsquote = '\\u2019'\n",
    "curly_ldquote = '\\u201C'\n",
    "curly_rdquote = '\\u201D'\n",
    "em_dash = '\\u2014'\n",
    "double_plus = '\\u29FA'\n",
    "ellipsis = '\\u2026'\n",
    "en_dash = '\\u2013'\n",
    "uml_I = \"\\u00CF\"\n",
    "delta = \"\\u2206\"\n",
    "\n",
    "blacklist = [\n",
    "    curly_lsquote, curly_rsquote, curly_ldquote, curly_rdquote, em_dash, double_plus, ellipsis, en_dash, uml_I, delta\n",
    "]\n",
    "\n",
    "blacklist_pattern = re.compile(\"|\".join(blacklist))\n",
    "\n",
    "# Include the curly single quotation mark in the replacement dictionary\n",
    "blacklist_replace_dict = {\n",
    "    curly_lsquote: \"'\",\n",
    "    curly_rsquote: \"'\",\n",
    "    curly_ldquote: '\"',\n",
    "    curly_rdquote: '\"',\n",
    "    em_dash: \"-\",\n",
    "    double_plus: \"++\",\n",
    "    ellipsis: \"...\",\n",
    "    en_dash: \"-\",\n",
    "    uml_I: \"I\",\n",
    "    delta: \"delta\"\n",
    "}\n",
    "\n",
    "\n",
    "def token_replacer(match):\n",
    "    return blacklist_replace_dict[match.group(0)]\n",
    "\n",
    "\n",
    "def replace_known_unk_tokens_batched(examples):\n",
    "    artists = []\n",
    "    albums = []\n",
    "    reviews = []\n",
    "    reviewers = []\n",
    "    \n",
    "    for artist, album, review, reviewer in zip(examples[\"artist\"], examples[\"album\"], examples[\"review\"], examples[\"reviewer\"]):\n",
    "        artist_ = blacklist_pattern.sub(token_replacer, html.unescape(artist))\n",
    "        album_ = blacklist_pattern.sub(token_replacer, html.unescape(album))\n",
    "        review_ = blacklist_pattern.sub(token_replacer, html.unescape(review))\n",
    "        reviewer_ = blacklist_pattern.sub(token_replacer, html.unescape(reviewer))\n",
    "        artists.append(artist_)\n",
    "        albums.append(album_)\n",
    "        reviews.append(review_)\n",
    "        reviewers.append(reviewer_)\n",
    "        \n",
    "    return {\"artist\": artists, \"album\": albums, \"review\": reviews, \"reviewer\": reviewers}\n",
    "\n",
    "\n",
    "def replace_known_unk_tokens(examples):\n",
    "    artist = blacklist_pattern.sub(token_replacer, html.unescape(example[\"artist\"]))\n",
    "    album = blacklist_pattern.sub(token_replacer, html.unescape(example[\"album\"]))\n",
    "    review = blacklist_pattern.sub(token_replacer, html.unescape(example[\"review\"]))\n",
    "    reviewer = blacklist_pattern.sub(token_replacer, html.unescape(example[\"reviewer\"]))\n",
    "    return {\"artist\": artist, \"album\": album, \"review\": review, \"reviewer\": reviewer}"
   ]
  },
  {
   "cell_type": "code",
   "execution_count": 9,
   "id": "a9c2cb93-c14f-4d24-944b-5e2456497da6",
   "metadata": {},
   "outputs": [],
   "source": [
    "# All columns we indend to analyze must have non-missing data\n",
    "dataset = dataset.filter(\n",
    "    # lambda examples: [isinstance(r, str) for r in examples[\"review\"]],\n",
    "    detect_nonstring,\n",
    "    batched=True\n",
    ")\n",
    "\n",
    "# Replace known \"unk\" tokens\n",
    "dataset = dataset.map(\n",
    "    replace_known_unk_tokens_batched,\n",
    "    batched=True\n",
    ")"
   ]
  },
  {
   "cell_type": "code",
   "execution_count": 10,
   "id": "37653f5d-bfca-407e-83f7-abe49393df52",
   "metadata": {},
   "outputs": [
    {
     "data": {
      "text/plain": [
       "Dataset({\n",
       "    features: ['artist', 'album', 'year_released', 'rating', 'small_text', 'review', 'reviewer', 'genre', 'label', 'reviewed', 'album_art_url'],\n",
       "    num_rows: 23034\n",
       "})"
      ]
     },
     "execution_count": 10,
     "metadata": {},
     "output_type": "execute_result"
    }
   ],
   "source": [
    "dataset"
   ]
  },
  {
   "cell_type": "code",
   "execution_count": 11,
   "id": "9a4f4bc1-ea1c-46cf-a094-06631fb5cc88",
   "metadata": {},
   "outputs": [],
   "source": [
    "dataset = dataset.map(\n",
    "    get_review_n_tokens,\n",
    "    batched=True,\n",
    "    num_proc=num_cores_avail\n",
    ")"
   ]
  },
  {
   "cell_type": "code",
   "execution_count": 12,
   "id": "dd5a164c-f9bf-41d4-a1e4-167ac1956114",
   "metadata": {},
   "outputs": [],
   "source": [
    "dataset_leftover = dataset.filter(\n",
    "    unk_detect_batched,\n",
    "    batched=True\n",
    ")"
   ]
  },
  {
   "cell_type": "code",
   "execution_count": 13,
   "id": "c57ccbae-04e1-4283-a404-b6cd11733595",
   "metadata": {},
   "outputs": [
    {
     "data": {
      "text/plain": [
       "Dataset({\n",
       "    features: ['artist', 'album', 'year_released', 'rating', 'small_text', 'review', 'reviewer', 'genre', 'label', 'reviewed', 'album_art_url', 'review_n_tokens'],\n",
       "    num_rows: 5\n",
       "})"
      ]
     },
     "execution_count": 13,
     "metadata": {},
     "output_type": "execute_result"
    }
   ],
   "source": [
    "dataset_leftover"
   ]
  },
  {
   "cell_type": "code",
   "execution_count": 14,
   "id": "8009fd83-33c3-40b6-9167-5c21928ed4f3",
   "metadata": {},
   "outputs": [],
   "source": [
    "meta_dataset = dataset.map(\n",
    "    remove_columns=[\"year_released\", \"small_text\", \"album_art_url\", \"review\"]\n",
    ")"
   ]
  },
  {
   "cell_type": "code",
   "execution_count": 15,
   "id": "7099d158-2314-4fbf-adee-3e3087bda8c7",
   "metadata": {},
   "outputs": [],
   "source": [
    "meta_dataset_df = meta_dataset.to_pandas()"
   ]
  },
  {
   "cell_type": "code",
   "execution_count": 16,
   "id": "e35c5363-5f6d-4042-889a-92f2f5b29b2d",
   "metadata": {},
   "outputs": [
    {
     "data": {
      "application/vnd.jupyter.widget-view+json": {
       "model_id": "5170d507a6664e91a32aaaea93d2540c",
       "version_major": 2,
       "version_minor": 0
      },
      "text/plain": [
       "Saving the dataset (0/1 shards):   0%|          | 0/23034 [00:00<?, ? examples/s]"
      ]
     },
     "metadata": {},
     "output_type": "display_data"
    }
   ],
   "source": [
    "Path(\"../data/pitchfork\").mkdir(parents=True, exist_ok=True)\n",
    "\n",
    "meta_dataset_df.to_csv(\"../data/pitchfork/meta_df.csv\", index=False)\n",
    "dataset.save_to_disk(\"../data/pitchfork/dataset\")"
   ]
  }
 ],
 "metadata": {
  "kernelspec": {
   "display_name": "Python 3 (ipykernel)",
   "language": "python",
   "name": "python3"
  },
  "language_info": {
   "codemirror_mode": {
    "name": "ipython",
    "version": 3
   },
   "file_extension": ".py",
   "mimetype": "text/x-python",
   "name": "python",
   "nbconvert_exporter": "python",
   "pygments_lexer": "ipython3",
   "version": "3.10.13"
  }
 },
 "nbformat": 4,
 "nbformat_minor": 5
}
