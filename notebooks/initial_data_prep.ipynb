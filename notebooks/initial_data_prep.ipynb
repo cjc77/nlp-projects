{
 "cells": [
  {
   "cell_type": "markdown",
   "id": "12182cd0-c783-4dd2-8c16-de0ac6157952",
   "metadata": {},
   "source": [
    "[Data exploration notebook](./pitchfork_data_explore.ipynb)"
   ]
  },
  {
   "cell_type": "code",
   "execution_count": 1,
   "id": "c860716b-f303-485f-b4b5-03bb45649231",
   "metadata": {},
   "outputs": [],
   "source": [
    "import multiprocessing\n",
    "import html\n",
    "import re\n",
    "import yaml\n",
    "from pathlib import Path\n",
    "\n",
    "import torch\n",
    "from datasets import load_dataset, Dataset\n",
    "from transformers import AutoTokenizer"
   ]
  },
  {
   "cell_type": "code",
   "execution_count": 2,
   "id": "5b266c8d-cab5-4466-85b0-2019f5f6e3c7",
   "metadata": {},
   "outputs": [],
   "source": [
    "num_cores_avail = max(1, multiprocessing.cpu_count() - 1)"
   ]
  },
  {
   "cell_type": "code",
   "execution_count": 3,
   "id": "d03f43db-8377-4b43-9d4a-a6c419d46ed8",
   "metadata": {},
   "outputs": [],
   "source": [
    "config_id = \"mlml6_rate_pred_cls\""
   ]
  },
  {
   "cell_type": "code",
   "execution_count": 4,
   "id": "65745be1-2ede-4302-931b-9b07732d1181",
   "metadata": {},
   "outputs": [],
   "source": [
    "with open(f\"../experiments/configs/{config_id}/main.yaml\", 'r') as f:\n",
    "    main_config = yaml.safe_load(f)"
   ]
  },
  {
   "cell_type": "code",
   "execution_count": 5,
   "id": "18e75cb4-cd16-444f-9a55-e5c90bc417b0",
   "metadata": {},
   "outputs": [],
   "source": [
    "dataset_checkpoint = main_config[\"dataset_checkpoint\"]\n",
    "dataset_checkpoint_revision = main_config[\"dataset_checkpoint_revision\"]\n",
    "pt_model_checkpoint = main_config[\"pt_model_checkpoint\"]\n",
    "pt_model_checkpoint_revision = main_config[\"pt_model_checkpoint_revision\"]\n",
    "dataset_id = main_config[\"dataset_id\"]"
   ]
  },
  {
   "cell_type": "code",
   "execution_count": 6,
   "id": "0bd6ad7b-1852-4435-b069-883bef363648",
   "metadata": {},
   "outputs": [],
   "source": [
    "tokenizer = AutoTokenizer.from_pretrained(\n",
    "    pt_model_checkpoint,\n",
    "    revision=pt_model_checkpoint_revision\n",
    ")"
   ]
  },
  {
   "cell_type": "code",
   "execution_count": 7,
   "id": "0d287c54-85f8-42d9-bbb1-05a8c4d1c634",
   "metadata": {},
   "outputs": [],
   "source": [
    "# Make sure to specify \"reviews.csv\" since it will default to album images\n",
    "raw_datasets = load_dataset(\n",
    "    dataset_checkpoint,\n",
    "    revision=dataset_checkpoint_revision,\n",
    "    data_files=[\"reviews.csv\"]\n",
    ")"
   ]
  },
  {
   "cell_type": "code",
   "execution_count": 8,
   "id": "48d4df6f-b365-4e21-ac36-bf71bc985d7c",
   "metadata": {},
   "outputs": [
    {
     "data": {
      "text/plain": [
       "DatasetDict({\n",
       "    train: Dataset({\n",
       "        features: ['artist', 'album', 'year_released', 'rating', 'small_text', 'review', 'reviewer', 'genre', 'label', 'reviewed', 'album_art_url'],\n",
       "        num_rows: 25709\n",
       "    })\n",
       "})"
      ]
     },
     "execution_count": 8,
     "metadata": {},
     "output_type": "execute_result"
    }
   ],
   "source": [
    "raw_datasets"
   ]
  },
  {
   "cell_type": "code",
   "execution_count": 9,
   "id": "423ff026-2f45-46d7-8b12-b9bd576dbecf",
   "metadata": {},
   "outputs": [],
   "source": [
    "dataset = raw_datasets[\"train\"]"
   ]
  },
  {
   "cell_type": "markdown",
   "id": "b5ea7f4d-efae-4e28-b60e-14ff62f5ad79",
   "metadata": {},
   "source": [
    "# Clean raw dataset"
   ]
  },
  {
   "cell_type": "code",
   "execution_count": 10,
   "id": "feb7ed23-bbb6-4de3-92d1-62ebb182c3cb",
   "metadata": {},
   "outputs": [],
   "source": [
    "def detect_nonstring(examples):\n",
    "    is_string = []\n",
    "    for artist, album, review, reviewer in zip(examples[\"artist\"], examples[\"album\"], examples[\"review\"], examples[\"reviewer\"]):\n",
    "        is_string_ = isinstance(artist, str)\n",
    "        is_string_ &= isinstance(album, str)\n",
    "        is_string_ &= isinstance(review, str)\n",
    "        is_string_ &= isinstance(reviewer, str)\n",
    "        is_string.append(is_string_)\n",
    "    return is_string\n",
    "\n",
    "\n",
    "def get_review_n_tokens(examples):\n",
    "    inputs = tokenizer(examples[\"review\"], truncation=False)\n",
    "    review_n_tokens = [len(inp_ids) for inp_ids in inputs.input_ids]\n",
    "    input_ids = inputs.input_ids\n",
    "    return {\"review_n_tokens\": review_n_tokens}\n",
    "\n",
    "\n",
    "def detect_unk_batched(examples):\n",
    "    batch_artist_ids = tokenizer(examples[\"artist\"]).input_ids\n",
    "    batch_album_ids = tokenizer(examples[\"album\"]).input_ids\n",
    "    unk_markers = []\n",
    "    for artist_ids, album_ids in zip(batch_artist_ids, batch_album_ids):\n",
    "        if (tokenizer.unk_token_id in artist_ids) or (tokenizer.unk_token_id in album_ids):\n",
    "            unk_markers.append(True)\n",
    "        else:\n",
    "            unk_markers.append(False)\n",
    "    return unk_markers\n",
    "\n",
    "\n",
    "curly_lsquote = '\\u2018'\n",
    "curly_rsquote = '\\u2019'\n",
    "curly_ldquote = '\\u201C'\n",
    "curly_rdquote = '\\u201D'\n",
    "em_dash = '\\u2014'\n",
    "double_plus = '\\u29FA'\n",
    "ellipsis = '\\u2026'\n",
    "en_dash = '\\u2013'\n",
    "uml_I = \"\\u00CF\"\n",
    "delta = \"\\u2206\"\n",
    "delta2 = \"\\u25B3\"\n",
    "degree = \"\\u02DA\"\n",
    "# ١\n",
    "one = \"\\u0661\"\n",
    "# ٩\n",
    "nine = \"\\u0669\"\n",
    "# Å\n",
    "AA = \"\\u0041\\u030A\"\n",
    "# ü\n",
    "ue = \"\\u0075\\u0308\"\n",
    "heart = \"\\u2661\"\n",
    "\n",
    "# blacklist = [\n",
    "#     curly_lsquote, curly_rsquote, curly_ldquote, curly_rdquote, em_dash, double_plus, ellipsis, en_dash, uml_I, delta\n",
    "# ]\n",
    "\n",
    "blacklists = {\n",
    "    \"distilbert_base_multi_cased\": [curly_lsquote, curly_rsquote, curly_ldquote, curly_rdquote, em_dash, double_plus, ellipsis, en_dash, uml_I, delta, AA, degree, ue],\n",
    "    \"minilm_l6\": [delta2, degree, one, double_plus, one, nine, heart]\n",
    "}\n",
    "\n",
    "blacklist_pattern = re.compile(\"|\".join(blacklists[dataset_id]))\n",
    "\n",
    "# Include the curly single quotation mark in the replacement dictionary\n",
    "blacklist_replace_dict = {\n",
    "    curly_lsquote: \"'\",\n",
    "    curly_rsquote: \"'\",\n",
    "    curly_ldquote: '\"',\n",
    "    curly_rdquote: '\"',\n",
    "    em_dash: \"-\",\n",
    "    double_plus: \"++\",\n",
    "    ellipsis: \"...\",\n",
    "    en_dash: \"-\",\n",
    "    uml_I: \"I\",\n",
    "    delta: \"delta\",\n",
    "    AA: \"AA\",\n",
    "    ue: \"ue\",\n",
    "    degree: \"degrees\",\n",
    "    delta2: \"delta\",\n",
    "    one: \"1\",\n",
    "    nine: \"9\",\n",
    "    heart: \"heart\",\n",
    "}\n",
    "\n",
    "\n",
    "def token_replacer(match):\n",
    "    return blacklist_replace_dict[match.group(0)]\n",
    "\n",
    "\n",
    "def replace_known_unk_tokens_batched(examples):\n",
    "    artists = []\n",
    "    albums = []\n",
    "    reviews = []\n",
    "    reviewers = []\n",
    "    \n",
    "    for artist, album, review, reviewer in zip(examples[\"artist\"], examples[\"album\"], examples[\"review\"], examples[\"reviewer\"]):\n",
    "        artist_ = blacklist_pattern.sub(token_replacer, html.unescape(artist))\n",
    "        album_ = blacklist_pattern.sub(token_replacer, html.unescape(album))\n",
    "        review_ = blacklist_pattern.sub(token_replacer, html.unescape(review))\n",
    "        reviewer_ = blacklist_pattern.sub(token_replacer, html.unescape(reviewer))\n",
    "        artists.append(artist_)\n",
    "        albums.append(album_)\n",
    "        reviews.append(review_)\n",
    "        reviewers.append(reviewer_)\n",
    "        \n",
    "    return {\"artist\": artists, \"album\": albums, \"review\": reviews, \"reviewer\": reviewers}\n",
    "\n",
    "\n",
    "def replace_known_unk_tokens(examples):\n",
    "    artist = blacklist_pattern.sub(token_replacer, html.unescape(example[\"artist\"]))\n",
    "    album = blacklist_pattern.sub(token_replacer, html.unescape(example[\"album\"]))\n",
    "    review = blacklist_pattern.sub(token_replacer, html.unescape(example[\"review\"]))\n",
    "    reviewer = blacklist_pattern.sub(token_replacer, html.unescape(example[\"reviewer\"]))\n",
    "    return {\"artist\": artist, \"album\": album, \"review\": review, \"reviewer\": reviewer}"
   ]
  },
  {
   "cell_type": "code",
   "execution_count": 11,
   "id": "a9c2cb93-c14f-4d24-944b-5e2456497da6",
   "metadata": {},
   "outputs": [],
   "source": [
    "# All columns we indend to analyze must have non-missing data\n",
    "dataset = dataset.filter(\n",
    "    # lambda examples: [isinstance(r, str) for r in examples[\"review\"]],\n",
    "    detect_nonstring,\n",
    "    batched=True\n",
    ")\n",
    "\n",
    "# Replace known \"unk\" tokens\n",
    "dataset = dataset.map(\n",
    "    replace_known_unk_tokens_batched,\n",
    "    batched=True\n",
    ")"
   ]
  },
  {
   "cell_type": "code",
   "execution_count": 12,
   "id": "37653f5d-bfca-407e-83f7-abe49393df52",
   "metadata": {},
   "outputs": [
    {
     "data": {
      "text/plain": [
       "Dataset({\n",
       "    features: ['artist', 'album', 'year_released', 'rating', 'small_text', 'review', 'reviewer', 'genre', 'label', 'reviewed', 'album_art_url'],\n",
       "    num_rows: 23034\n",
       "})"
      ]
     },
     "execution_count": 12,
     "metadata": {},
     "output_type": "execute_result"
    }
   ],
   "source": [
    "dataset"
   ]
  },
  {
   "cell_type": "code",
   "execution_count": 13,
   "id": "9a4f4bc1-ea1c-46cf-a094-06631fb5cc88",
   "metadata": {},
   "outputs": [],
   "source": [
    "dataset = dataset.map(\n",
    "    get_review_n_tokens,\n",
    "    batched=True,\n",
    "    num_proc=num_cores_avail\n",
    ")\n",
    "\n",
    "dataset = Dataset.from_pandas(\n",
    "    dataset.to_pandas().drop_duplicates().reset_index(drop=True)\n",
    ")"
   ]
  },
  {
   "cell_type": "code",
   "execution_count": 14,
   "id": "dd5a164c-f9bf-41d4-a1e4-167ac1956114",
   "metadata": {},
   "outputs": [
    {
     "data": {
      "application/vnd.jupyter.widget-view+json": {
       "model_id": "29596dd88c4541cf9265f47024a4c8f8",
       "version_major": 2,
       "version_minor": 0
      },
      "text/plain": [
       "Filter:   0%|          | 0/22063 [00:00<?, ? examples/s]"
      ]
     },
     "metadata": {},
     "output_type": "display_data"
    }
   ],
   "source": [
    "dataset_leftover = dataset.filter(\n",
    "    detect_unk_batched,\n",
    "    batched=True\n",
    ")"
   ]
  },
  {
   "cell_type": "code",
   "execution_count": 15,
   "id": "eb0ac968-909b-4db7-9b1a-6a8d1c83b855",
   "metadata": {},
   "outputs": [
    {
     "data": {
      "text/plain": [
       "16"
      ]
     },
     "execution_count": 15,
     "metadata": {},
     "output_type": "execute_result"
    }
   ],
   "source": [
    "len(dataset_leftover)"
   ]
  },
  {
   "cell_type": "code",
   "execution_count": 16,
   "id": "8de87bfc-da97-4063-9212-abb48c7d0303",
   "metadata": {},
   "outputs": [
    {
     "name": "stderr",
     "output_type": "stream",
     "text": [
      "Token indices sequence length is longer than the specified maximum sequence length for this model (773 > 512). Running this sequence through the model will result in indexing errors\n"
     ]
    },
    {
     "data": {
      "text/plain": [
       "{'YTI⅃AƎЯ',\n",
       " '؟',\n",
       " 'ゾット',\n",
       " '七',\n",
       " '九',\n",
       " '乱',\n",
       " '佛',\n",
       " '來',\n",
       " '偉',\n",
       " '共',\n",
       " '冥',\n",
       " '卡',\n",
       " '印',\n",
       " '去',\n",
       " '只',\n",
       " '吸',\n",
       " '呼',\n",
       " '夢',\n",
       " '奏',\n",
       " '客',\n",
       " '市',\n",
       " '希',\n",
       " '幽',\n",
       " '廁',\n",
       " '念',\n",
       " '愚',\n",
       " '戰',\n",
       " '所',\n",
       " '敗',\n",
       " '曜',\n",
       " '會',\n",
       " '殺',\n",
       " '波',\n",
       " '浴',\n",
       " '物',\n",
       " '狗',\n",
       " '玉',\n",
       " '疊',\n",
       " '矮',\n",
       " '節',\n",
       " '與',\n",
       " '蒸',\n",
       " '观',\n",
       " '詩',\n",
       " '象',\n",
       " '轉',\n",
       " '過',\n",
       " '重',\n",
       " '閃',\n",
       " '隠',\n",
       " '霊',\n",
       " '靈',\n",
       " '音',\n",
       " '駭',\n",
       " '鬼',\n",
       " '개꿈',\n",
       " '박혜진'}"
      ]
     },
     "execution_count": 16,
     "metadata": {},
     "output_type": "execute_result"
    }
   ],
   "source": [
    "unk_tokens = set()\n",
    "for i in range(len(dataset_leftover)):\n",
    "    text = dataset_leftover[i][\"review\"]\n",
    "    inputs = tokenizer(text, return_offsets_mapping=True)\n",
    "    ids = inputs.input_ids\n",
    "    offsets = inputs.offset_mapping\n",
    "    \n",
    "    for j, id in enumerate(ids):\n",
    "        if id == tokenizer.unk_token_id:\n",
    "            unk_tokens.add(text[offsets[j][0]: offsets[j][1]])\n",
    "unk_tokens"
   ]
  },
  {
   "cell_type": "code",
   "execution_count": 17,
   "id": "8009fd83-33c3-40b6-9167-5c21928ed4f3",
   "metadata": {},
   "outputs": [
    {
     "data": {
      "application/vnd.jupyter.widget-view+json": {
       "model_id": "da7b21e284614d66aac33232c5c662a3",
       "version_major": 2,
       "version_minor": 0
      },
      "text/plain": [
       "Map:   0%|          | 0/22063 [00:00<?, ? examples/s]"
      ]
     },
     "metadata": {},
     "output_type": "display_data"
    }
   ],
   "source": [
    "meta_dataset = dataset.map(\n",
    "    remove_columns=[\"year_released\", \"small_text\", \"album_art_url\", \"review\"]\n",
    ")"
   ]
  },
  {
   "cell_type": "code",
   "execution_count": 18,
   "id": "7099d158-2314-4fbf-adee-3e3087bda8c7",
   "metadata": {},
   "outputs": [],
   "source": [
    "meta_dataset_df = meta_dataset.to_pandas()"
   ]
  },
  {
   "cell_type": "code",
   "execution_count": 19,
   "id": "870a5c98-617c-4378-bffc-0ec13f065c28",
   "metadata": {},
   "outputs": [
    {
     "data": {
      "text/plain": [
       "22063"
      ]
     },
     "execution_count": 19,
     "metadata": {},
     "output_type": "execute_result"
    }
   ],
   "source": [
    "len(dataset)"
   ]
  },
  {
   "cell_type": "code",
   "execution_count": 20,
   "id": "13b3846e-55d2-42a7-85cc-49a73d97ad76",
   "metadata": {},
   "outputs": [],
   "source": [
    "# datasets = dataset.train_test_split(test_size=0.2)\n",
    "# datasets[\"validation\"] = datasets.pop(\"test\")\n",
    "# datasets\n",
    "\n",
    "# First, split the dataset into train and temp\n",
    "# Going with a 70-15-15 train-val-test split.\n",
    "# 70% for training is solid for fine-tuning.\n",
    "# 15% each for val and test for reliable overfitting estimates and testing.\n",
    "# A 60-20-20 split would be better with a smaller dataset or a simpler model.\n",
    "datasets = dataset.train_test_split(test_size=0.3)\n",
    "\n",
    "# Now, split the temp dataset into validation and test sets\n",
    "datasets_val_test = datasets.pop(\"test\").train_test_split(test_size=0.5)\n",
    "datasets[\"validation\"] = datasets_val_test.pop(\"train\")\n",
    "datasets[\"test\"] = datasets_val_test.pop(\"test\")\n",
    "# datasets[\"validation\"], datasets[\"test\"] = datasets.pop(\"test\").train_test_split(test_size=0.5)"
   ]
  },
  {
   "cell_type": "code",
   "execution_count": 21,
   "id": "edf7ec86-7380-4bbd-82d1-3ba8894fbdd1",
   "metadata": {},
   "outputs": [
    {
     "data": {
      "text/plain": [
       "DatasetDict({\n",
       "    train: Dataset({\n",
       "        features: ['artist', 'album', 'year_released', 'rating', 'small_text', 'review', 'reviewer', 'genre', 'label', 'reviewed', 'album_art_url', 'review_n_tokens'],\n",
       "        num_rows: 15444\n",
       "    })\n",
       "    validation: Dataset({\n",
       "        features: ['artist', 'album', 'year_released', 'rating', 'small_text', 'review', 'reviewer', 'genre', 'label', 'reviewed', 'album_art_url', 'review_n_tokens'],\n",
       "        num_rows: 3309\n",
       "    })\n",
       "    test: Dataset({\n",
       "        features: ['artist', 'album', 'year_released', 'rating', 'small_text', 'review', 'reviewer', 'genre', 'label', 'reviewed', 'album_art_url', 'review_n_tokens'],\n",
       "        num_rows: 3310\n",
       "    })\n",
       "})"
      ]
     },
     "execution_count": 21,
     "metadata": {},
     "output_type": "execute_result"
    }
   ],
   "source": [
    "datasets"
   ]
  },
  {
   "cell_type": "code",
   "execution_count": 22,
   "id": "e35c5363-5f6d-4042-889a-92f2f5b29b2d",
   "metadata": {},
   "outputs": [
    {
     "data": {
      "application/vnd.jupyter.widget-view+json": {
       "model_id": "35fcee00f29f4a37a6583bc32fde4316",
       "version_major": 2,
       "version_minor": 0
      },
      "text/plain": [
       "Saving the dataset (0/1 shards):   0%|          | 0/15444 [00:00<?, ? examples/s]"
      ]
     },
     "metadata": {},
     "output_type": "display_data"
    },
    {
     "data": {
      "application/vnd.jupyter.widget-view+json": {
       "model_id": "3fc99dce213d4092969630aa4406605f",
       "version_major": 2,
       "version_minor": 0
      },
      "text/plain": [
       "Saving the dataset (0/1 shards):   0%|          | 0/3309 [00:00<?, ? examples/s]"
      ]
     },
     "metadata": {},
     "output_type": "display_data"
    },
    {
     "data": {
      "application/vnd.jupyter.widget-view+json": {
       "model_id": "773e8d3a1cb34e3c949f81cb0c23138e",
       "version_major": 2,
       "version_minor": 0
      },
      "text/plain": [
       "Saving the dataset (0/1 shards):   0%|          | 0/3310 [00:00<?, ? examples/s]"
      ]
     },
     "metadata": {},
     "output_type": "display_data"
    }
   ],
   "source": [
    "root_data_dir = f\"../data/pitchfork/{dataset_id}\"\n",
    "Path(root_data_dir).mkdir(parents=True, exist_ok=True)\n",
    "\n",
    "meta_dataset_df.to_csv(f\"{root_data_dir}/meta_df.csv\", index=False)\n",
    "datasets.save_to_disk(f\"{root_data_dir}/dataset\")"
   ]
  },
  {
   "cell_type": "code",
   "execution_count": null,
   "id": "af265b2a-cbb8-46f0-ae5c-b22a206a5255",
   "metadata": {},
   "outputs": [],
   "source": []
  }
 ],
 "metadata": {
  "kernelspec": {
   "display_name": "Python 3 (ipykernel)",
   "language": "python",
   "name": "python3"
  },
  "language_info": {
   "codemirror_mode": {
    "name": "ipython",
    "version": 3
   },
   "file_extension": ".py",
   "mimetype": "text/x-python",
   "name": "python",
   "nbconvert_exporter": "python",
   "pygments_lexer": "ipython3",
   "version": "3.10.13"
  }
 },
 "nbformat": 4,
 "nbformat_minor": 5
}
