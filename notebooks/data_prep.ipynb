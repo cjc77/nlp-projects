{
 "cells": [
  {
   "cell_type": "code",
   "execution_count": 1,
   "id": "c860716b-f303-485f-b4b5-03bb45649231",
   "metadata": {},
   "outputs": [],
   "source": [
    "import torch\n",
    "from datasets import load_dataset"
   ]
  },
  {
   "cell_type": "code",
   "execution_count": 2,
   "id": "6b37a0ab-3b83-453e-96be-c771bae222c5",
   "metadata": {},
   "outputs": [],
   "source": [
    "dataset_checkpoint = \"mattismegevand/pitchfork\"\n",
    "dataset_checkpoint_revision = \"4d88fdd126d4dc1aa70ac0dbee25fd0020dd9690\""
   ]
  },
  {
   "cell_type": "markdown",
   "id": "f629cf91-3511-4396-b59f-4ac90b5efab4",
   "metadata": {},
   "source": [
    "Make sure to specify \"reviews.csv\" since it will default to album images"
   ]
  },
  {
   "cell_type": "code",
   "execution_count": 3,
   "id": "0d287c54-85f8-42d9-bbb1-05a8c4d1c634",
   "metadata": {},
   "outputs": [
    {
     "data": {
      "application/vnd.jupyter.widget-view+json": {
       "model_id": "ca2c1ee647154c50b3bdb0de46780b9a",
       "version_major": 2,
       "version_minor": 0
      },
      "text/plain": [
       "Downloading readme:   0%|          | 0.00/2.17k [00:00<?, ?B/s]"
      ]
     },
     "metadata": {},
     "output_type": "display_data"
    },
    {
     "data": {
      "application/vnd.jupyter.widget-view+json": {
       "model_id": "2f5532af6d0f440783029b79faaedc33",
       "version_major": 2,
       "version_minor": 0
      },
      "text/plain": [
       "Downloading data files:   0%|          | 0/1 [00:00<?, ?it/s]"
      ]
     },
     "metadata": {},
     "output_type": "display_data"
    },
    {
     "data": {
      "application/vnd.jupyter.widget-view+json": {
       "model_id": "34f7c74e9831497b99607efa1fabe0c2",
       "version_major": 2,
       "version_minor": 0
      },
      "text/plain": [
       "Downloading data:   0%|          | 0.00/89.9M [00:00<?, ?B/s]"
      ]
     },
     "metadata": {},
     "output_type": "display_data"
    },
    {
     "data": {
      "application/vnd.jupyter.widget-view+json": {
       "model_id": "62695a52fbb647628e0f6c1826da83bd",
       "version_major": 2,
       "version_minor": 0
      },
      "text/plain": [
       "Extracting data files:   0%|          | 0/1 [00:00<?, ?it/s]"
      ]
     },
     "metadata": {},
     "output_type": "display_data"
    },
    {
     "data": {
      "application/vnd.jupyter.widget-view+json": {
       "model_id": "bc72f48bf57146e2a8f4c2be0d61f58e",
       "version_major": 2,
       "version_minor": 0
      },
      "text/plain": [
       "Generating train split: 0 examples [00:00, ? examples/s]"
      ]
     },
     "metadata": {},
     "output_type": "display_data"
    }
   ],
   "source": [
    "raw_dataset = load_dataset(dataset_checkpoint, revision=dataset_checkpoint_revision, data_files=[\"reviews.csv\"])"
   ]
  },
  {
   "cell_type": "code",
   "execution_count": 4,
   "id": "48d4df6f-b365-4e21-ac36-bf71bc985d7c",
   "metadata": {},
   "outputs": [
    {
     "data": {
      "text/plain": [
       "DatasetDict({\n",
       "    train: Dataset({\n",
       "        features: ['artist', 'album', 'year_released', 'rating', 'small_text', 'review', 'reviewer', 'genre', 'label', 'reviewed', 'album_art_url'],\n",
       "        num_rows: 25709\n",
       "    })\n",
       "})"
      ]
     },
     "execution_count": 4,
     "metadata": {},
     "output_type": "execute_result"
    }
   ],
   "source": [
    "raw_dataset"
   ]
  },
  {
   "cell_type": "code",
   "execution_count": 5,
   "id": "423ff026-2f45-46d7-8b12-b9bd576dbecf",
   "metadata": {},
   "outputs": [
    {
     "data": {
      "text/plain": [
       "{'artist': 'Queens of the Stone Age',\n",
       " 'album': 'In Times New Roman...',\n",
       " 'year_released': 2023,\n",
       " 'rating': 6.8,\n",
       " 'small_text': 'On its angriest and heaviest record in years, the rock band restores its bluesy, primitive sound as Joshua Homme confronts his recent turmoil',\n",
       " 'review': 'Like many of us, Joshua Homme has had a rough few years. Unlike most of us, the Queens of the Stone Age frontman’s troubles have been splattered across the music press. He’s been embroiled in an acrimonious custody dispute with ex-wife Brody Dalle; has filed restraining orders against Dalle (who has also filed restraining orders against him); has undergone surgery following a cancer diagnosis; and has grieved multiple close friends, including former bandmate Mark Lanegan. “This has been the darkest four years of my life,” Homme recently told Revolver, an admission that humanizes a rock star who has long played with cartoonishly villainous personas on record.For a period, he couldn’t make music at all. Then music became an outlet for his grief, a treatment plan more therapeutic than all those drugs he name-checked in “Feel Good Hit of the Summer.” The resulting album, In Times New Roman…, is the stoner-rock group’s heaviest, angriest work since 2007’s underrated Era Vulgaris. The seething indictments of “Paper Machete” set the tone early: Homme lashes out at an unnamed tormenter (OK, not so subtle: “I know you’d use anything, anyone, to make yourself look clean/In sickness, no vows mean anything”) over grinding power chords that thrash and blare like a Queens song is supposed to. And yet the song sounds somehow preliminary and underwhelming, like Homme needed to get this stuff off his chest and forgot to write a hook worthy of the vitriol.Wholly self-produced, and absent any high-profile guests, In Times New Roman… is more hermetic than usual. Serving as the band’s only permanent member, Homme chips away the chrome-plated dance-rock machinations of 2017’s Mark Ronson-produced Villains and tries to restore the band to a bluesy primitivity: You can almost smell the tube amps overheating on “Time & Place.” But often the results are mixed. On “Obscenery,” a lukewarm groove of squelchy guitars serves as a canvas for some of the record’s clunkiest rhymes: “Voyeurism jism may cause blurry visions/Or a spoiled brat for an inner child.”The most compelling tracks deepen the anger with flashes of humor and wry introspection. Borrowing a Silverchair pun, lead single “Emotion Sickness” alternates fluently between high-octane blasts of acid-damaged guitar and a chorus that luxuriates in the band’s melodic chops. “Baby don’t care for me,” goes the deceptively sun-kissed refrain. Like earlier tracks, the song alludes to Homme’s divorce (“See the sights/Holy Braille”), but there’s a playfulness, a thrilling push-and-pull between melody and attack, that recalls the band’s heights.',\n",
       " 'reviewer': 'Zach Schonfeld',\n",
       " 'genre': 'Rock',\n",
       " 'label': 'Matador',\n",
       " 'reviewed': 'June 16, 2023',\n",
       " 'album_art_url': 'https://media.pitchfork.com/photos/645ceaf64a67dfa0db7ad010/1:1/w_320'}"
      ]
     },
     "execution_count": 5,
     "metadata": {},
     "output_type": "execute_result"
    }
   ],
   "source": [
    "raw_dataset[\"train\"][101]"
   ]
  }
 ],
 "metadata": {
  "kernelspec": {
   "display_name": "Python 3 (ipykernel)",
   "language": "python",
   "name": "python3"
  },
  "language_info": {
   "codemirror_mode": {
    "name": "ipython",
    "version": 3
   },
   "file_extension": ".py",
   "mimetype": "text/x-python",
   "name": "python",
   "nbconvert_exporter": "python",
   "pygments_lexer": "ipython3",
   "version": "3.10.13"
  }
 },
 "nbformat": 4,
 "nbformat_minor": 5
}
