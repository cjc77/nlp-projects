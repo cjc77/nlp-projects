{
 "cells": [
  {
   "cell_type": "markdown",
   "id": "e69a6d74-4381-46cc-8779-4e182d713b27",
   "metadata": {},
   "source": [
    "[<< Model Fitting](03_rating_pred.ipynb)"
   ]
  },
  {
   "cell_type": "markdown",
   "id": "5484ec2d-ab35-4804-a75d-47b5810b5e00",
   "metadata": {},
   "source": [
    "Coming soon..."
   ]
  }
 ],
 "metadata": {
  "kernelspec": {
   "display_name": "R",
   "language": "R",
   "name": "ir"
  },
  "language_info": {
   "codemirror_mode": "r",
   "file_extension": ".r",
   "mimetype": "text/x-r-source",
   "name": "R",
   "pygments_lexer": "r",
   "version": "4.3.1"
  }
 },
 "nbformat": 4,
 "nbformat_minor": 5
}
