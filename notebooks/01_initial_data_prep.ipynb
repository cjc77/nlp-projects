{
 "cells": [
  {
   "cell_type": "markdown",
   "id": "12182cd0-c783-4dd2-8c16-de0ac6157952",
   "metadata": {},
   "source": [
    "[Data Exploration >>](02_data_explore.ipynb)"
   ]
  },
  {
   "cell_type": "code",
   "execution_count": 57,
   "id": "c860716b-f303-485f-b4b5-03bb45649231",
   "metadata": {},
   "outputs": [],
   "source": [
    "import multiprocessing\n",
    "import html\n",
    "import re\n",
    "import yaml\n",
    "from pathlib import Path\n",
    "from pprint import pprint\n",
    "\n",
    "import torch\n",
    "from datasets import load_dataset, Dataset\n",
    "from transformers import AutoTokenizer"
   ]
  },
  {
   "cell_type": "code",
   "execution_count": 2,
   "id": "5b266c8d-cab5-4466-85b0-2019f5f6e3c7",
   "metadata": {},
   "outputs": [],
   "source": [
    "num_cores_avail = max(1, multiprocessing.cpu_count() - 1)"
   ]
  },
  {
   "cell_type": "code",
   "execution_count": 3,
   "id": "d03f43db-8377-4b43-9d4a-a6c419d46ed8",
   "metadata": {},
   "outputs": [],
   "source": [
    "config_id = \"mlml6_rate_pred_cls\""
   ]
  },
  {
   "cell_type": "code",
   "execution_count": 4,
   "id": "65745be1-2ede-4302-931b-9b07732d1181",
   "metadata": {},
   "outputs": [],
   "source": [
    "with open(f\"../experiments/configs/{config_id}/main.yaml\", 'r') as f:\n",
    "    main_config = yaml.safe_load(f)"
   ]
  },
  {
   "cell_type": "code",
   "execution_count": 5,
   "id": "18e75cb4-cd16-444f-9a55-e5c90bc417b0",
   "metadata": {},
   "outputs": [],
   "source": [
    "dataset_checkpoint = main_config[\"dataset_checkpoint\"]\n",
    "dataset_checkpoint_revision = main_config[\"dataset_checkpoint_revision\"]\n",
    "pt_model_checkpoint = main_config[\"pt_model_checkpoint\"]\n",
    "pt_model_checkpoint_revision = main_config[\"pt_model_checkpoint_revision\"]\n",
    "dataset_id = main_config[\"dataset_id\"]"
   ]
  },
  {
   "cell_type": "code",
   "execution_count": 6,
   "id": "5da1c3c0-36ba-4c85-970a-b5ecc964c79f",
   "metadata": {},
   "outputs": [
    {
     "data": {
      "text/plain": [
       "'minilm_l6'"
      ]
     },
     "execution_count": 6,
     "metadata": {},
     "output_type": "execute_result"
    }
   ],
   "source": [
    "dataset_id"
   ]
  },
  {
   "cell_type": "code",
   "execution_count": 91,
   "id": "750eca41-6afe-43e3-8c94-627f4a3f6acd",
   "metadata": {},
   "outputs": [],
   "source": [
    "root_dataset_dir = f\"../data/pitchfork/{dataset_id}\"\n",
    "raw_data_cache_dir = f\"../data/pitchfork/raw/cache\"\n",
    "Path(raw_data_cache_dir).mkdir(parents=True, exist_ok=True)\n",
    "Path(root_dataset_dir).mkdir(parents=True, exist_ok=True)"
   ]
  },
  {
   "cell_type": "code",
   "execution_count": 8,
   "id": "0bd6ad7b-1852-4435-b069-883bef363648",
   "metadata": {},
   "outputs": [],
   "source": [
    "tokenizer = AutoTokenizer.from_pretrained(\n",
    "    pt_model_checkpoint,\n",
    "    revision=pt_model_checkpoint_revision\n",
    ")"
   ]
  },
  {
   "cell_type": "code",
   "execution_count": 26,
   "id": "0d287c54-85f8-42d9-bbb1-05a8c4d1c634",
   "metadata": {},
   "outputs": [
    {
     "data": {
      "application/vnd.jupyter.widget-view+json": {
       "model_id": "4bc0ca5148c9446bbbffaf2f96bdbdfd",
       "version_major": 2,
       "version_minor": 0
      },
      "text/plain": [
       "Downloading data files:   0%|          | 0/1 [00:00<?, ?it/s]"
      ]
     },
     "metadata": {},
     "output_type": "display_data"
    },
    {
     "data": {
      "application/vnd.jupyter.widget-view+json": {
       "model_id": "ddd07c09d1354920a378e67f6fcb965b",
       "version_major": 2,
       "version_minor": 0
      },
      "text/plain": [
       "Extracting data files:   0%|          | 0/1 [00:00<?, ?it/s]"
      ]
     },
     "metadata": {},
     "output_type": "display_data"
    },
    {
     "data": {
      "application/vnd.jupyter.widget-view+json": {
       "model_id": "8f8a1494e2e448aea857f94973320f1d",
       "version_major": 2,
       "version_minor": 0
      },
      "text/plain": [
       "Generating train split: 0 examples [00:00, ? examples/s]"
      ]
     },
     "metadata": {},
     "output_type": "display_data"
    }
   ],
   "source": [
    "# Make sure to specify \"reviews.csv\" since it will default to album images\n",
    "raw_datasets = load_dataset(\n",
    "    dataset_checkpoint,\n",
    "    revision=dataset_checkpoint_revision,\n",
    "    data_files=[\"reviews.csv\"],\n",
    "    cache_dir=raw_data_cache_dir\n",
    ")"
   ]
  },
  {
   "cell_type": "code",
   "execution_count": 27,
   "id": "48d4df6f-b365-4e21-ac36-bf71bc985d7c",
   "metadata": {},
   "outputs": [
    {
     "data": {
      "text/plain": [
       "DatasetDict({\n",
       "    train: Dataset({\n",
       "        features: ['artist', 'album', 'year_released', 'rating', 'small_text', 'review', 'reviewer', 'genre', 'label', 'reviewed', 'album_art_url'],\n",
       "        num_rows: 25709\n",
       "    })\n",
       "})"
      ]
     },
     "execution_count": 27,
     "metadata": {},
     "output_type": "execute_result"
    }
   ],
   "source": [
    "raw_datasets"
   ]
  },
  {
   "cell_type": "markdown",
   "id": "b5ea7f4d-efae-4e28-b60e-14ff62f5ad79",
   "metadata": {},
   "source": [
    "# Clean raw dataset"
   ]
  },
  {
   "cell_type": "code",
   "execution_count": 73,
   "id": "feb7ed23-bbb6-4de3-92d1-62ebb182c3cb",
   "metadata": {},
   "outputs": [],
   "source": [
    "# def detect_nonstring(examples):\n",
    "#     is_string = []\n",
    "#     for artist, album, review, reviewer in zip(examples[\"artist\"], examples[\"album\"], examples[\"review\"], examples[\"reviewer\"]):\n",
    "#         is_string_ = isinstance(artist, str)\n",
    "#         is_string_ &= isinstance(album, str)\n",
    "#         is_string_ &= isinstance(review, str)\n",
    "#         is_string_ &= isinstance(reviewer, str)\n",
    "#         is_string.append(is_string_)\n",
    "#     return is_string\n",
    "\n",
    "def detect_wrong_type(examples, cols, dtype):\n",
    "    is_dtype = []\n",
    "    # All columns should be of the same length\n",
    "    for i in range(len(examples[cols[0]])):\n",
    "        # Make sure entry is of the specified dtype for each column of interest\n",
    "        is_dtype_ = all(isinstance(examples[col][i], dtype) for col in cols)\n",
    "        is_dtype.append(is_dtype_)\n",
    "    return is_dtype\n",
    "\n",
    "\n",
    "# def get_review_n_tokens_batched(examples):\n",
    "#     inputs = tokenizer(examples[\"review\"], truncation=False)\n",
    "#     review_n_tokens = [len(inp_ids) for inp_ids in inputs.input_ids]\n",
    "#     input_ids = inputs.input_ids\n",
    "#     return {\"review_n_tokens\": review_n_tokens}\n",
    "\n",
    "def get_n_tokens_batched(examples, text_col, tokenizer):\n",
    "    inputs = tokenizer(examples[text_col], truncation=False)\n",
    "    n_tokens = [len(inp_ids) for inp_ids in inputs[\"input_ids\"]]\n",
    "    return {f\"{text_col}_n_tokens\": n_tokens}\n",
    "\n",
    "\n",
    "# def detect_unk_batched(examples):\n",
    "#     batch_artist_ids = tokenizer(examples[\"artist\"]).input_ids\n",
    "#     batch_album_ids = tokenizer(examples[\"album\"]).input_ids\n",
    "#     unk_markers = []\n",
    "#     for artist_ids, album_ids in zip(batch_artist_ids, batch_album_ids):\n",
    "#         if (tokenizer.unk_token_id in artist_ids) or (tokenizer.unk_token_id in album_ids):\n",
    "#             unk_markers.append(True)\n",
    "#         else:\n",
    "#             unk_markers.append(False)\n",
    "#     return unk_markers\n",
    "\n",
    "\n",
    "def detect_unk_batched(examples, cols, tokenizer):\n",
    "    batch_ids_dict = {col: tokenizer(examples[col]).input_ids for col in cols}\n",
    "    unk_markers = []\n",
    "    # All columns should be of the same length\n",
    "    for i in range(len(examples[cols[0]])):\n",
    "        has_unk = any(tokenizer.unk_token_id in batch_ids_dict[col][i] for col in cols)\n",
    "        unk_markers.append(has_unk)\n",
    "        \n",
    "    return unk_markers\n",
    "\n",
    "\n",
    "def detect_only_unk_batched(examples, cols, tokenizer):\n",
    "    batch_ids_dict = {col: tokenizer(examples[col]).input_ids for col in cols}\n",
    "    only_unk_markers = []\n",
    "    \n",
    "    # All columns should be of the same length\n",
    "    for i in range(len(examples[cols[0]])):\n",
    "        # Does *any* column (attribute) contain *only* unknown tokens?\n",
    "        only_unk = any(all(token_id == tokenizer.unk_token_id for token_id in batch_ids_dict[col][i]) for col in cols)\n",
    "        only_unk_markers.append(only_unk)\n",
    "        \n",
    "    return only_unk_markers\n",
    "\n",
    "\n",
    "curly_lsquote = '\\u2018'\n",
    "curly_rsquote = '\\u2019'\n",
    "curly_ldquote = '\\u201C'\n",
    "curly_rdquote = '\\u201D'\n",
    "em_dash = '\\u2014'\n",
    "double_plus = '\\u29FA'\n",
    "ellipsis = '\\u2026'\n",
    "en_dash = '\\u2013'\n",
    "uml_I = \"\\u00CF\"\n",
    "delta = \"\\u2206\"\n",
    "delta2 = \"\\u25B3\"\n",
    "degree = \"\\u02DA\"\n",
    "# ١\n",
    "one = \"\\u0661\"\n",
    "# ٩\n",
    "nine = \"\\u0669\"\n",
    "# Å\n",
    "AA = \"\\u0041\\u030A\"\n",
    "# ü\n",
    "ue = \"\\u0075\\u0308\"\n",
    "heart = \"\\u2661\"\n",
    "\n",
    "# blacklist = [\n",
    "#     curly_lsquote, curly_rsquote, curly_ldquote, curly_rdquote, em_dash, double_plus, ellipsis, en_dash, uml_I, delta\n",
    "# ]\n",
    "\n",
    "blacklists = {\n",
    "    \"distilbert_base_multi_cased\": [curly_lsquote, curly_rsquote, curly_ldquote, curly_rdquote, em_dash, double_plus, ellipsis, en_dash, uml_I, delta, AA, degree, ue],\n",
    "    \"minilm_l6\": [delta2, degree, one, double_plus, one, nine, heart]\n",
    "}\n",
    "\n",
    "blacklist_pattern = re.compile(\"|\".join(blacklists[dataset_id]))\n",
    "\n",
    "# Include the curly single quotation mark in the replacement dictionary\n",
    "blacklist_replace_dict = {\n",
    "    curly_lsquote: \"'\",\n",
    "    curly_rsquote: \"'\",\n",
    "    curly_ldquote: '\"',\n",
    "    curly_rdquote: '\"',\n",
    "    em_dash: \"-\",\n",
    "    double_plus: \"++\",\n",
    "    ellipsis: \"...\",\n",
    "    en_dash: \"-\",\n",
    "    uml_I: \"I\",\n",
    "    delta: \"delta\",\n",
    "    AA: \"AA\",\n",
    "    ue: \"ue\",\n",
    "    degree: \"degrees\",\n",
    "    delta2: \"delta\",\n",
    "    one: \"1\",\n",
    "    nine: \"9\",\n",
    "    heart: \"heart\",\n",
    "}\n",
    "\n",
    "\n",
    "def token_replacer(match):\n",
    "    return blacklist_replace_dict[match.group(0)]\n",
    "\n",
    "\n",
    "# def replace_known_unk_tokens_batched(examples):\n",
    "#     artists = []\n",
    "#     albums = []\n",
    "#     reviews = []\n",
    "#     reviewers = []\n",
    "    \n",
    "#     for artist, album, review, reviewer in zip(examples[\"artist\"], examples[\"album\"], examples[\"review\"], examples[\"reviewer\"]):\n",
    "#         artist_ = blacklist_pattern.sub(token_replacer, html.unescape(artist))\n",
    "#         album_ = blacklist_pattern.sub(token_replacer, html.unescape(album))\n",
    "#         review_ = blacklist_pattern.sub(token_replacer, html.unescape(review))\n",
    "#         reviewer_ = blacklist_pattern.sub(token_replacer, html.unescape(reviewer))\n",
    "#         artists.append(artist_)\n",
    "#         albums.append(album_)\n",
    "#         reviews.append(review_)\n",
    "#         reviewers.append(reviewer_)\n",
    "        \n",
    "#     return {\"artist\": artists, \"album\": albums, \"review\": reviews, \"reviewer\": reviewers}\n",
    "\n",
    "\n",
    "def replace_known_unk_tokens_batched(examples, cols):\n",
    "    replaced_batch = {col: [] for col in cols}\n",
    "\n",
    "    # All columns should be of the same length\n",
    "    for i in range(len(examples[cols[0]])):\n",
    "        for col in cols:\n",
    "            text = examples[col][i]\n",
    "            replaced_text = blacklist_pattern.sub(token_replacer, html.unescape(text))\n",
    "            replaced_batch[col].append(replaced_text)\n",
    "            \n",
    "    return replaced_batch\n",
    "\n",
    "# def replace_known_unk_tokens(examples):\n",
    "#     artist = blacklist_pattern.sub(token_replacer, html.unescape(example[\"artist\"]))\n",
    "#     album = blacklist_pattern.sub(token_replacer, html.unescape(example[\"album\"]))\n",
    "#     review = blacklist_pattern.sub(token_replacer, html.unescape(example[\"review\"]))\n",
    "#     reviewer = blacklist_pattern.sub(token_replacer, html.unescape(example[\"reviewer\"]))\n",
    "#     return {\"artist\": artist, \"album\": album, \"review\": review, \"reviewer\": reviewer}\n",
    "\n",
    "def replace_known_unk_tokens(examples, cols):\n",
    "    replaced = {}\n",
    "    for col in cols:\n",
    "        replaced[col] = blacklist_pattern.sub(token_replacer, html.unescape(examples[col]))\n",
    "    return replaced"
   ]
  },
  {
   "cell_type": "code",
   "execution_count": 74,
   "id": "423ff026-2f45-46d7-8b12-b9bd576dbecf",
   "metadata": {},
   "outputs": [],
   "source": [
    "dataset = raw_datasets[\"train\"]"
   ]
  },
  {
   "cell_type": "code",
   "execution_count": 75,
   "id": "a9c2cb93-c14f-4d24-944b-5e2456497da6",
   "metadata": {},
   "outputs": [],
   "source": [
    "# The artist, album, review, and reviewer columns should be strings (e.g., should not be None)\n",
    "dataset = dataset.filter(\n",
    "    # detect_nonstring,\n",
    "    lambda examples: detect_wrong_type(examples, [\"artist\", \"album\", \"review\", \"reviewer\"], str),\n",
    "    batched=True,\n",
    "    num_proc=num_cores_avail\n",
    ")\n",
    "\n",
    "# Replace known \"unk\" tokens\n",
    "dataset = dataset.map(\n",
    "    # replace_known_unk_tokens_batched,\n",
    "    lambda examples: replace_known_unk_tokens_batched(examples, [\"artist\", \"album\", \"review\", \"reviewer\"]),\n",
    "    batched=True,\n",
    "    num_proc=num_cores_avail\n",
    ")"
   ]
  },
  {
   "cell_type": "code",
   "execution_count": 76,
   "id": "37653f5d-bfca-407e-83f7-abe49393df52",
   "metadata": {},
   "outputs": [
    {
     "data": {
      "text/plain": [
       "Dataset({\n",
       "    features: ['artist', 'album', 'year_released', 'rating', 'small_text', 'review', 'reviewer', 'genre', 'label', 'reviewed', 'album_art_url'],\n",
       "    num_rows: 23034\n",
       "})"
      ]
     },
     "execution_count": 76,
     "metadata": {},
     "output_type": "execute_result"
    }
   ],
   "source": [
    "dataset"
   ]
  },
  {
   "cell_type": "code",
   "execution_count": 77,
   "id": "9a4f4bc1-ea1c-46cf-a094-06631fb5cc88",
   "metadata": {},
   "outputs": [
    {
     "data": {
      "application/vnd.jupyter.widget-view+json": {
       "model_id": "95ebb6416b19406b9df8677403b3b116",
       "version_major": 2,
       "version_minor": 0
      },
      "text/plain": [
       "Map (num_proc=15):   0%|          | 0/23034 [00:00<?, ? examples/s]"
      ]
     },
     "metadata": {},
     "output_type": "display_data"
    }
   ],
   "source": [
    "dataset = dataset.map(\n",
    "    # get_review_n_tokens,\n",
    "    lambda examples: get_n_tokens_batched(examples, \"review\", tokenizer),\n",
    "    batched=True,\n",
    "    num_proc=num_cores_avail\n",
    ")\n",
    "\n",
    "dataset = Dataset.from_pandas(\n",
    "    dataset.to_pandas().drop_duplicates().reset_index(drop=True)\n",
    ")"
   ]
  },
  {
   "cell_type": "code",
   "execution_count": 78,
   "id": "dd5a164c-f9bf-41d4-a1e4-167ac1956114",
   "metadata": {},
   "outputs": [
    {
     "data": {
      "application/vnd.jupyter.widget-view+json": {
       "model_id": "bef9120050a04634bf1f2ae36560b82f",
       "version_major": 2,
       "version_minor": 0
      },
      "text/plain": [
       "Filter:   0%|          | 0/22063 [00:00<?, ? examples/s]"
      ]
     },
     "metadata": {},
     "output_type": "display_data"
    }
   ],
   "source": [
    "dataset_leftover = dataset.filter(\n",
    "    # detect_unk_batched,\n",
    "    lambda examples: detect_unk_batched(examples, [\"artist\", \"album\"], tokenizer),\n",
    "    batched=True\n",
    ")"
   ]
  },
  {
   "cell_type": "code",
   "execution_count": 79,
   "id": "eb0ac968-909b-4db7-9b1a-6a8d1c83b855",
   "metadata": {},
   "outputs": [
    {
     "data": {
      "text/plain": [
       "16"
      ]
     },
     "execution_count": 79,
     "metadata": {},
     "output_type": "execute_result"
    }
   ],
   "source": [
    "len(dataset_leftover)"
   ]
  },
  {
   "cell_type": "code",
   "execution_count": 80,
   "id": "8de87bfc-da97-4063-9212-abb48c7d0303",
   "metadata": {},
   "outputs": [],
   "source": [
    "unk_tokens = set()\n",
    "for i in range(len(dataset_leftover)):\n",
    "    text = dataset_leftover[i][\"review\"]\n",
    "    inputs = tokenizer(text, return_offsets_mapping=True)\n",
    "    ids = inputs.input_ids\n",
    "    offsets = inputs.offset_mapping\n",
    "    \n",
    "    for j, id in enumerate(ids):\n",
    "        if id == tokenizer.unk_token_id:\n",
    "            unk_tokens.add(text[offsets[j][0]: offsets[j][1]])"
   ]
  },
  {
   "cell_type": "code",
   "execution_count": 81,
   "id": "fed23755-a789-4170-ad22-4ec1f96951fe",
   "metadata": {},
   "outputs": [
    {
     "name": "stdout",
     "output_type": "stream",
     "text": [
      "霊 重 殺 物 蒸 七 乱 疊 來 偉 鬼 幽 卡 愚 浴 曜 所 與 呼 YTI⅃AƎЯ 詩 冥 去 狗 戰 玉 敗 象 客 印 波 박혜진 會 廁 개꿈 只 念 節 靈 閃 ゾット 夢 市 轉 過 共 希 ؟ 駭 矮 音 奏 佛 九 观 隠 吸\n"
     ]
    }
   ],
   "source": [
    "print(*unk_tokens)"
   ]
  },
  {
   "cell_type": "code",
   "execution_count": 82,
   "id": "b67dc777-dc50-437c-88d1-6bf6313bc528",
   "metadata": {},
   "outputs": [
    {
     "data": {
      "application/vnd.jupyter.widget-view+json": {
       "model_id": "33a3c8b5e6cc4e52b4b1d2ef862cae9c",
       "version_major": 2,
       "version_minor": 0
      },
      "text/plain": [
       "Filter:   0%|          | 0/22063 [00:00<?, ? examples/s]"
      ]
     },
     "metadata": {},
     "output_type": "display_data"
    }
   ],
   "source": [
    "dataset_leftover = dataset.filter(\n",
    "    # detect_unk_batched,\n",
    "    lambda examples: detect_only_unk_batched(examples, [\"artist\", \"album\"], tokenizer),\n",
    "    batched=True\n",
    ")"
   ]
  },
  {
   "cell_type": "code",
   "execution_count": 83,
   "id": "beee6e0a-60c4-40a9-ad37-8adad6643ae4",
   "metadata": {},
   "outputs": [
    {
     "data": {
      "text/plain": [
       "Dataset({\n",
       "    features: ['artist', 'album', 'year_released', 'rating', 'small_text', 'review', 'reviewer', 'genre', 'label', 'reviewed', 'album_art_url', 'review_n_tokens'],\n",
       "    num_rows: 0\n",
       "})"
      ]
     },
     "execution_count": 83,
     "metadata": {},
     "output_type": "execute_result"
    }
   ],
   "source": [
    "dataset_leftover"
   ]
  },
  {
   "cell_type": "code",
   "execution_count": 84,
   "id": "8009fd83-33c3-40b6-9167-5c21928ed4f3",
   "metadata": {},
   "outputs": [
    {
     "data": {
      "application/vnd.jupyter.widget-view+json": {
       "model_id": "abc4ab430db4476aa047d733363357fa",
       "version_major": 2,
       "version_minor": 0
      },
      "text/plain": [
       "Map:   0%|          | 0/22063 [00:00<?, ? examples/s]"
      ]
     },
     "metadata": {},
     "output_type": "display_data"
    }
   ],
   "source": [
    "meta_dataset = dataset.map(\n",
    "    remove_columns=[\"year_released\", \"small_text\", \"album_art_url\", \"review\"]\n",
    ")"
   ]
  },
  {
   "cell_type": "code",
   "execution_count": 85,
   "id": "7099d158-2314-4fbf-adee-3e3087bda8c7",
   "metadata": {},
   "outputs": [],
   "source": [
    "meta_dataset_df = meta_dataset.to_pandas()"
   ]
  },
  {
   "cell_type": "code",
   "execution_count": 86,
   "id": "870a5c98-617c-4378-bffc-0ec13f065c28",
   "metadata": {},
   "outputs": [
    {
     "data": {
      "text/plain": [
       "22063"
      ]
     },
     "execution_count": 86,
     "metadata": {},
     "output_type": "execute_result"
    }
   ],
   "source": [
    "len(dataset)"
   ]
  },
  {
   "cell_type": "code",
   "execution_count": 87,
   "id": "13b3846e-55d2-42a7-85cc-49a73d97ad76",
   "metadata": {},
   "outputs": [],
   "source": [
    "# First, split the dataset into train and temp\n",
    "# Going with a 70-15-15 train-val-test split.\n",
    "# 70% for training is solid for fine-tuning.\n",
    "# 15% each for val and test for reliable overfitting estimates and testing.\n",
    "# A 60-20-20 split would be better with a smaller dataset or a simpler model.\n",
    "datasets = dataset.train_test_split(test_size=0.3)\n",
    "\n",
    "# Now, split the temp dataset into validation and test sets\n",
    "datasets_val_test = datasets.pop(\"test\").train_test_split(test_size=0.5)\n",
    "datasets[\"validation\"] = datasets_val_test.pop(\"train\")\n",
    "datasets[\"test\"] = datasets_val_test.pop(\"test\")\n",
    "# datasets[\"validation\"], datasets[\"test\"] = datasets.pop(\"test\").train_test_split(test_size=0.5)"
   ]
  },
  {
   "cell_type": "code",
   "execution_count": 88,
   "id": "edf7ec86-7380-4bbd-82d1-3ba8894fbdd1",
   "metadata": {},
   "outputs": [
    {
     "data": {
      "text/plain": [
       "DatasetDict({\n",
       "    train: Dataset({\n",
       "        features: ['artist', 'album', 'year_released', 'rating', 'small_text', 'review', 'reviewer', 'genre', 'label', 'reviewed', 'album_art_url', 'review_n_tokens'],\n",
       "        num_rows: 15444\n",
       "    })\n",
       "    validation: Dataset({\n",
       "        features: ['artist', 'album', 'year_released', 'rating', 'small_text', 'review', 'reviewer', 'genre', 'label', 'reviewed', 'album_art_url', 'review_n_tokens'],\n",
       "        num_rows: 3309\n",
       "    })\n",
       "    test: Dataset({\n",
       "        features: ['artist', 'album', 'year_released', 'rating', 'small_text', 'review', 'reviewer', 'genre', 'label', 'reviewed', 'album_art_url', 'review_n_tokens'],\n",
       "        num_rows: 3310\n",
       "    })\n",
       "})"
      ]
     },
     "execution_count": 88,
     "metadata": {},
     "output_type": "execute_result"
    }
   ],
   "source": [
    "datasets"
   ]
  },
  {
   "cell_type": "code",
   "execution_count": 92,
   "id": "e35c5363-5f6d-4042-889a-92f2f5b29b2d",
   "metadata": {},
   "outputs": [
    {
     "data": {
      "application/vnd.jupyter.widget-view+json": {
       "model_id": "b73a3748fb8a48998a0eaf0b5f7cce0e",
       "version_major": 2,
       "version_minor": 0
      },
      "text/plain": [
       "Saving the dataset (0/1 shards):   0%|          | 0/15444 [00:00<?, ? examples/s]"
      ]
     },
     "metadata": {},
     "output_type": "display_data"
    },
    {
     "data": {
      "application/vnd.jupyter.widget-view+json": {
       "model_id": "9c567122c16d4b5f9e2772061e2309d8",
       "version_major": 2,
       "version_minor": 0
      },
      "text/plain": [
       "Saving the dataset (0/1 shards):   0%|          | 0/3309 [00:00<?, ? examples/s]"
      ]
     },
     "metadata": {},
     "output_type": "display_data"
    },
    {
     "data": {
      "application/vnd.jupyter.widget-view+json": {
       "model_id": "92ee762bebd84030b5f4fd6a66df19c6",
       "version_major": 2,
       "version_minor": 0
      },
      "text/plain": [
       "Saving the dataset (0/1 shards):   0%|          | 0/3310 [00:00<?, ? examples/s]"
      ]
     },
     "metadata": {},
     "output_type": "display_data"
    }
   ],
   "source": [
    "meta_dataset_df.to_csv(f\"{root_dataset_dir}/meta_df.csv\", index=False)\n",
    "datasets.save_to_disk(f\"{root_dataset_dir}/dataset\")"
   ]
  },
  {
   "cell_type": "code",
   "execution_count": null,
   "id": "af265b2a-cbb8-46f0-ae5c-b22a206a5255",
   "metadata": {},
   "outputs": [],
   "source": []
  }
 ],
 "metadata": {
  "kernelspec": {
   "display_name": "Python 3 (ipykernel)",
   "language": "python",
   "name": "python3"
  },
  "language_info": {
   "codemirror_mode": {
    "name": "ipython",
    "version": 3
   },
   "file_extension": ".py",
   "mimetype": "text/x-python",
   "name": "python",
   "nbconvert_exporter": "python",
   "pygments_lexer": "ipython3",
   "version": "3.10.13"
  }
 },
 "nbformat": 4,
 "nbformat_minor": 5
}
