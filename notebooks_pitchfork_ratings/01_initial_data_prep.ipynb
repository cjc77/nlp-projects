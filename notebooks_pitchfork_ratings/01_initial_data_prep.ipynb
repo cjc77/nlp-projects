{
 "cells": [
  {
   "cell_type": "markdown",
   "id": "12182cd0-c783-4dd2-8c16-de0ac6157952",
   "metadata": {},
   "source": [
    "[Data Exploration >>](02_data_explore.ipynb)"
   ]
  },
  {
   "cell_type": "code",
   "execution_count": 1,
   "id": "c860716b-f303-485f-b4b5-03bb45649231",
   "metadata": {},
   "outputs": [],
   "source": [
    "import multiprocessing\n",
    "import html\n",
    "import re\n",
    "import yaml\n",
    "from pathlib import Path\n",
    "from pprint import pprint\n",
    "\n",
    "import torch\n",
    "from datasets import load_dataset, Dataset\n",
    "from transformers import AutoTokenizer\n",
    "\n",
    "import myutilpy.data_processing as dprep"
   ]
  },
  {
   "cell_type": "code",
   "execution_count": 2,
   "id": "5b266c8d-cab5-4466-85b0-2019f5f6e3c7",
   "metadata": {},
   "outputs": [],
   "source": [
    "num_cores_avail = max(1, multiprocessing.cpu_count() - 1)"
   ]
  },
  {
   "cell_type": "code",
   "execution_count": 3,
   "id": "d03f43db-8377-4b43-9d4a-a6c419d46ed8",
   "metadata": {},
   "outputs": [],
   "source": [
    "config_id = \"mlml6_rate_pred_cls\""
   ]
  },
  {
   "cell_type": "code",
   "execution_count": 4,
   "id": "65745be1-2ede-4302-931b-9b07732d1181",
   "metadata": {},
   "outputs": [],
   "source": [
    "with open(f\"../experiments/configs/{config_id}/main.yaml\", 'r') as f:\n",
    "    main_config = yaml.safe_load(f)"
   ]
  },
  {
   "cell_type": "code",
   "execution_count": 5,
   "id": "18e75cb4-cd16-444f-9a55-e5c90bc417b0",
   "metadata": {},
   "outputs": [],
   "source": [
    "dataset_checkpoint = main_config[\"dataset_checkpoint\"]\n",
    "dataset_checkpoint_revision = main_config[\"dataset_checkpoint_revision\"]\n",
    "pt_model_checkpoint = main_config[\"pt_model_checkpoint\"]\n",
    "pt_model_checkpoint_revision = main_config[\"pt_model_checkpoint_revision\"]\n",
    "dataset_id = main_config[\"dataset_id\"]"
   ]
  },
  {
   "cell_type": "code",
   "execution_count": 6,
   "id": "5da1c3c0-36ba-4c85-970a-b5ecc964c79f",
   "metadata": {},
   "outputs": [
    {
     "data": {
      "text/plain": [
       "'minilm_l6'"
      ]
     },
     "execution_count": 6,
     "metadata": {},
     "output_type": "execute_result"
    }
   ],
   "source": [
    "dataset_id"
   ]
  },
  {
   "cell_type": "code",
   "execution_count": 7,
   "id": "750eca41-6afe-43e3-8c94-627f4a3f6acd",
   "metadata": {},
   "outputs": [],
   "source": [
    "root_dataset_dir = f\"../data/pitchfork/{dataset_id}\"\n",
    "raw_data_cache_dir = f\"../data/pitchfork/raw/cache\"\n",
    "Path(raw_data_cache_dir).mkdir(parents=True, exist_ok=True)\n",
    "Path(root_dataset_dir).mkdir(parents=True, exist_ok=True)"
   ]
  },
  {
   "cell_type": "code",
   "execution_count": 8,
   "id": "0bd6ad7b-1852-4435-b069-883bef363648",
   "metadata": {},
   "outputs": [],
   "source": [
    "tokenizer = AutoTokenizer.from_pretrained(\n",
    "    pt_model_checkpoint,\n",
    "    revision=pt_model_checkpoint_revision\n",
    ")"
   ]
  },
  {
   "cell_type": "code",
   "execution_count": 10,
   "id": "0d287c54-85f8-42d9-bbb1-05a8c4d1c634",
   "metadata": {},
   "outputs": [
    {
     "data": {
      "application/vnd.jupyter.widget-view+json": {
       "model_id": "7d59771cc8f249b5be31fc4215b570ae",
       "version_major": 2,
       "version_minor": 0
      },
      "text/plain": [
       "Downloading data files:   0%|          | 0/1 [00:00<?, ?it/s]"
      ]
     },
     "metadata": {},
     "output_type": "display_data"
    },
    {
     "data": {
      "application/vnd.jupyter.widget-view+json": {
       "model_id": "7492a9a4bce741f9a4ee1599f5ded3a3",
       "version_major": 2,
       "version_minor": 0
      },
      "text/plain": [
       "Extracting data files:   0%|          | 0/1 [00:00<?, ?it/s]"
      ]
     },
     "metadata": {},
     "output_type": "display_data"
    },
    {
     "data": {
      "application/vnd.jupyter.widget-view+json": {
       "model_id": "82ab6a5dddaa45b192e07f19a3c6e791",
       "version_major": 2,
       "version_minor": 0
      },
      "text/plain": [
       "Generating train split: 0 examples [00:00, ? examples/s]"
      ]
     },
     "metadata": {},
     "output_type": "display_data"
    }
   ],
   "source": [
    "# Make sure to specify \"reviews.csv\" since it will default to album images\n",
    "raw_datasets = load_dataset(\n",
    "    dataset_checkpoint,\n",
    "    revision=dataset_checkpoint_revision,\n",
    "    data_files=[\"reviews.csv\"],\n",
    "    cache_dir=raw_data_cache_dir\n",
    ")"
   ]
  },
  {
   "cell_type": "code",
   "execution_count": 11,
   "id": "48d4df6f-b365-4e21-ac36-bf71bc985d7c",
   "metadata": {},
   "outputs": [
    {
     "data": {
      "text/plain": [
       "DatasetDict({\n",
       "    train: Dataset({\n",
       "        features: ['artist', 'album', 'year_released', 'rating', 'small_text', 'review', 'reviewer', 'genre', 'label', 'reviewed', 'album_art_url'],\n",
       "        num_rows: 25709\n",
       "    })\n",
       "})"
      ]
     },
     "execution_count": 11,
     "metadata": {},
     "output_type": "execute_result"
    }
   ],
   "source": [
    "raw_datasets"
   ]
  },
  {
   "cell_type": "markdown",
   "id": "b5ea7f4d-efae-4e28-b60e-14ff62f5ad79",
   "metadata": {},
   "source": [
    "# Clean raw dataset"
   ]
  },
  {
   "cell_type": "code",
   "execution_count": 12,
   "id": "423ff026-2f45-46d7-8b12-b9bd576dbecf",
   "metadata": {},
   "outputs": [],
   "source": [
    "dataset = raw_datasets[\"train\"]"
   ]
  },
  {
   "cell_type": "code",
   "execution_count": 13,
   "id": "871481a9-7045-42dc-8831-f07c97827c21",
   "metadata": {},
   "outputs": [],
   "source": [
    "blacklist_pattern = dprep.get_blacklist_pattern(dataset_id)"
   ]
  },
  {
   "cell_type": "code",
   "execution_count": 14,
   "id": "a9c2cb93-c14f-4d24-944b-5e2456497da6",
   "metadata": {},
   "outputs": [
    {
     "data": {
      "application/vnd.jupyter.widget-view+json": {
       "model_id": "76573559540e465ebb5ed01890c4c8bb",
       "version_major": 2,
       "version_minor": 0
      },
      "text/plain": [
       "Filter (num_proc=15):   0%|          | 0/25709 [00:00<?, ? examples/s]"
      ]
     },
     "metadata": {},
     "output_type": "display_data"
    },
    {
     "data": {
      "application/vnd.jupyter.widget-view+json": {
       "model_id": "16d62d9789554a88ad26b4670637f32b",
       "version_major": 2,
       "version_minor": 0
      },
      "text/plain": [
       "Map (num_proc=15):   0%|          | 0/23034 [00:00<?, ? examples/s]"
      ]
     },
     "metadata": {},
     "output_type": "display_data"
    }
   ],
   "source": [
    "# The artist, album, review, and reviewer columns should be strings (e.g., should not be None)\n",
    "dataset = dataset.filter(\n",
    "    lambda examples: dprep.detect_wrong_type(examples, [\"artist\", \"album\", \"review\", \"reviewer\"], str),\n",
    "    batched=True,\n",
    "    num_proc=num_cores_avail\n",
    ")\n",
    "\n",
    "# Replace known \"unk\" tokens\n",
    "dataset = dataset.map(\n",
    "    lambda examples: dprep.replace_known_unk_tokens_batched(examples, [\"artist\", \"album\", \"review\", \"reviewer\"], blacklist_pattern),\n",
    "    batched=True,\n",
    "    num_proc=num_cores_avail\n",
    ")"
   ]
  },
  {
   "cell_type": "code",
   "execution_count": 15,
   "id": "37653f5d-bfca-407e-83f7-abe49393df52",
   "metadata": {},
   "outputs": [
    {
     "data": {
      "text/plain": [
       "Dataset({\n",
       "    features: ['artist', 'album', 'year_released', 'rating', 'small_text', 'review', 'reviewer', 'genre', 'label', 'reviewed', 'album_art_url'],\n",
       "    num_rows: 23034\n",
       "})"
      ]
     },
     "execution_count": 15,
     "metadata": {},
     "output_type": "execute_result"
    }
   ],
   "source": [
    "dataset"
   ]
  },
  {
   "cell_type": "code",
   "execution_count": 16,
   "id": "9a4f4bc1-ea1c-46cf-a094-06631fb5cc88",
   "metadata": {},
   "outputs": [
    {
     "data": {
      "application/vnd.jupyter.widget-view+json": {
       "model_id": "0a62cbbd61284a71aa2efbf6f2a116db",
       "version_major": 2,
       "version_minor": 0
      },
      "text/plain": [
       "Map (num_proc=15):   0%|          | 0/23034 [00:00<?, ? examples/s]"
      ]
     },
     "metadata": {},
     "output_type": "display_data"
    },
    {
     "name": "stderr",
     "output_type": "stream",
     "text": [
      "Token indices sequence length is longer than the specified maximum sequence length for this model (709 > 512). Running this sequence through the model will result in indexing errors\n",
      "Token indices sequence length is longer than the specified maximum sequence length for this model (607 > 512). Running this sequence through the model will result in indexing errors\n",
      "Token indices sequence length is longer than the specified maximum sequence length for this model (721 > 512). Running this sequence through the model will result in indexing errors\n",
      "Token indices sequence length is longer than the specified maximum sequence length for this model (579 > 512). Running this sequence through the model will result in indexing errors\n",
      "Token indices sequence length is longer than the specified maximum sequence length for this model (888 > 512). Running this sequence through the model will result in indexing errors\n",
      "Token indices sequence length is longer than the specified maximum sequence length for this model (776 > 512). Running this sequence through the model will result in indexing errors\n",
      "Token indices sequence length is longer than the specified maximum sequence length for this model (587 > 512). Running this sequence through the model will result in indexing errors\n",
      "Token indices sequence length is longer than the specified maximum sequence length for this model (760 > 512). Running this sequence through the model will result in indexing errors\n",
      "Token indices sequence length is longer than the specified maximum sequence length for this model (775 > 512). Running this sequence through the model will result in indexing errors\n",
      "Token indices sequence length is longer than the specified maximum sequence length for this model (603 > 512). Running this sequence through the model will result in indexing errors\n",
      "Token indices sequence length is longer than the specified maximum sequence length for this model (771 > 512). Running this sequence through the model will result in indexing errors\n",
      "Token indices sequence length is longer than the specified maximum sequence length for this model (744 > 512). Running this sequence through the model will result in indexing errors\n",
      "Token indices sequence length is longer than the specified maximum sequence length for this model (1000 > 512). Running this sequence through the model will result in indexing errors\n",
      "Token indices sequence length is longer than the specified maximum sequence length for this model (660 > 512). Running this sequence through the model will result in indexing errors\n",
      "Token indices sequence length is longer than the specified maximum sequence length for this model (759 > 512). Running this sequence through the model will result in indexing errors\n"
     ]
    }
   ],
   "source": [
    "dataset = dataset.map(\n",
    "    lambda examples: dprep.get_n_tokens_batched(examples, \"review\", tokenizer),\n",
    "    batched=True,\n",
    "    num_proc=num_cores_avail\n",
    ")\n",
    "\n",
    "dataset = Dataset.from_pandas(\n",
    "    dataset.to_pandas().drop_duplicates().reset_index(drop=True)\n",
    ")"
   ]
  },
  {
   "cell_type": "code",
   "execution_count": 17,
   "id": "dd5a164c-f9bf-41d4-a1e4-167ac1956114",
   "metadata": {},
   "outputs": [
    {
     "data": {
      "application/vnd.jupyter.widget-view+json": {
       "model_id": "cd09e8e797044b41b0b55d5bac1332fd",
       "version_major": 2,
       "version_minor": 0
      },
      "text/plain": [
       "Filter:   0%|          | 0/22063 [00:00<?, ? examples/s]"
      ]
     },
     "metadata": {},
     "output_type": "display_data"
    }
   ],
   "source": [
    "dataset_leftover = dataset.filter(\n",
    "    lambda examples: dprep.detect_unk_batched(examples, [\"artist\", \"album\"], tokenizer),\n",
    "    batched=True\n",
    ")"
   ]
  },
  {
   "cell_type": "code",
   "execution_count": 18,
   "id": "eb0ac968-909b-4db7-9b1a-6a8d1c83b855",
   "metadata": {},
   "outputs": [
    {
     "data": {
      "text/plain": [
       "16"
      ]
     },
     "execution_count": 18,
     "metadata": {},
     "output_type": "execute_result"
    }
   ],
   "source": [
    "len(dataset_leftover)"
   ]
  },
  {
   "cell_type": "code",
   "execution_count": 19,
   "id": "8de87bfc-da97-4063-9212-abb48c7d0303",
   "metadata": {},
   "outputs": [
    {
     "name": "stderr",
     "output_type": "stream",
     "text": [
      "Token indices sequence length is longer than the specified maximum sequence length for this model (773 > 512). Running this sequence through the model will result in indexing errors\n"
     ]
    }
   ],
   "source": [
    "unk_tokens = set()\n",
    "for i in range(len(dataset_leftover)):\n",
    "    text = dataset_leftover[i][\"review\"]\n",
    "    inputs = tokenizer(text, return_offsets_mapping=True)\n",
    "    ids = inputs.input_ids\n",
    "    offsets = inputs.offset_mapping\n",
    "    \n",
    "    for j, id in enumerate(ids):\n",
    "        if id == tokenizer.unk_token_id:\n",
    "            unk_tokens.add(text[offsets[j][0]: offsets[j][1]])"
   ]
  },
  {
   "cell_type": "code",
   "execution_count": 20,
   "id": "fed23755-a789-4170-ad22-4ec1f96951fe",
   "metadata": {},
   "outputs": [
    {
     "name": "stdout",
     "output_type": "stream",
     "text": [
      "狗 過 節 去 개꿈 九 詩 念 呼 象 波 卡 希 敗 重 霊 박혜진 殺 廁 佛 YTI⅃AƎЯ 與 冥 观 物 夢 來 鬼 戰 偉 玉 ؟ 浴 共 愚 蒸 奏 客 幽 轉 靈 ゾット 所 吸 音 疊 七 只 曜 隠 矮 會 乱 閃 市 駭 印\n"
     ]
    }
   ],
   "source": [
    "print(*unk_tokens)"
   ]
  },
  {
   "cell_type": "code",
   "execution_count": 21,
   "id": "b67dc777-dc50-437c-88d1-6bf6313bc528",
   "metadata": {},
   "outputs": [
    {
     "data": {
      "application/vnd.jupyter.widget-view+json": {
       "model_id": "f78c51a899bb47b78b76315e303a54d4",
       "version_major": 2,
       "version_minor": 0
      },
      "text/plain": [
       "Filter:   0%|          | 0/22063 [00:00<?, ? examples/s]"
      ]
     },
     "metadata": {},
     "output_type": "display_data"
    }
   ],
   "source": [
    "dataset_leftover = dataset.filter(\n",
    "    lambda examples: dprep.detect_only_unk_batched(examples, [\"artist\", \"album\"], tokenizer),\n",
    "    batched=True\n",
    ")"
   ]
  },
  {
   "cell_type": "code",
   "execution_count": 22,
   "id": "beee6e0a-60c4-40a9-ad37-8adad6643ae4",
   "metadata": {},
   "outputs": [
    {
     "data": {
      "text/plain": [
       "Dataset({\n",
       "    features: ['artist', 'album', 'year_released', 'rating', 'small_text', 'review', 'reviewer', 'genre', 'label', 'reviewed', 'album_art_url', 'review_n_tokens'],\n",
       "    num_rows: 0\n",
       "})"
      ]
     },
     "execution_count": 22,
     "metadata": {},
     "output_type": "execute_result"
    }
   ],
   "source": [
    "dataset_leftover"
   ]
  },
  {
   "cell_type": "code",
   "execution_count": 23,
   "id": "8009fd83-33c3-40b6-9167-5c21928ed4f3",
   "metadata": {},
   "outputs": [
    {
     "data": {
      "application/vnd.jupyter.widget-view+json": {
       "model_id": "485976e8d30648e7b7e16e07071f184f",
       "version_major": 2,
       "version_minor": 0
      },
      "text/plain": [
       "Map:   0%|          | 0/22063 [00:00<?, ? examples/s]"
      ]
     },
     "metadata": {},
     "output_type": "display_data"
    }
   ],
   "source": [
    "meta_dataset = dataset.map(\n",
    "    remove_columns=[\"year_released\", \"small_text\", \"album_art_url\", \"review\"]\n",
    ")"
   ]
  },
  {
   "cell_type": "code",
   "execution_count": 24,
   "id": "7099d158-2314-4fbf-adee-3e3087bda8c7",
   "metadata": {},
   "outputs": [],
   "source": [
    "meta_dataset_df = meta_dataset.to_pandas()"
   ]
  },
  {
   "cell_type": "code",
   "execution_count": 25,
   "id": "870a5c98-617c-4378-bffc-0ec13f065c28",
   "metadata": {},
   "outputs": [
    {
     "data": {
      "text/plain": [
       "22063"
      ]
     },
     "execution_count": 25,
     "metadata": {},
     "output_type": "execute_result"
    }
   ],
   "source": [
    "len(dataset)"
   ]
  },
  {
   "cell_type": "code",
   "execution_count": 26,
   "id": "13b3846e-55d2-42a7-85cc-49a73d97ad76",
   "metadata": {},
   "outputs": [],
   "source": [
    "# First, split the dataset into train and temp\n",
    "# Going with a 70-15-15 train-val-test split.\n",
    "# 70% for training is solid for fine-tuning.\n",
    "# 15% each for val and test for reliable overfitting estimates and testing.\n",
    "# A 60-20-20 split would be better with a smaller dataset or a simpler model.\n",
    "datasets = dataset.train_test_split(test_size=0.3)\n",
    "\n",
    "# Now, split the temp dataset into validation and test sets\n",
    "datasets_val_test = datasets.pop(\"test\").train_test_split(test_size=0.5)\n",
    "datasets[\"validation\"] = datasets_val_test.pop(\"train\")\n",
    "datasets[\"test\"] = datasets_val_test.pop(\"test\")\n",
    "# datasets[\"validation\"], datasets[\"test\"] = datasets.pop(\"test\").train_test_split(test_size=0.5)"
   ]
  },
  {
   "cell_type": "code",
   "execution_count": 27,
   "id": "edf7ec86-7380-4bbd-82d1-3ba8894fbdd1",
   "metadata": {},
   "outputs": [
    {
     "data": {
      "text/plain": [
       "DatasetDict({\n",
       "    train: Dataset({\n",
       "        features: ['artist', 'album', 'year_released', 'rating', 'small_text', 'review', 'reviewer', 'genre', 'label', 'reviewed', 'album_art_url', 'review_n_tokens'],\n",
       "        num_rows: 15444\n",
       "    })\n",
       "    validation: Dataset({\n",
       "        features: ['artist', 'album', 'year_released', 'rating', 'small_text', 'review', 'reviewer', 'genre', 'label', 'reviewed', 'album_art_url', 'review_n_tokens'],\n",
       "        num_rows: 3309\n",
       "    })\n",
       "    test: Dataset({\n",
       "        features: ['artist', 'album', 'year_released', 'rating', 'small_text', 'review', 'reviewer', 'genre', 'label', 'reviewed', 'album_art_url', 'review_n_tokens'],\n",
       "        num_rows: 3310\n",
       "    })\n",
       "})"
      ]
     },
     "execution_count": 27,
     "metadata": {},
     "output_type": "execute_result"
    }
   ],
   "source": [
    "datasets"
   ]
  },
  {
   "cell_type": "code",
   "execution_count": 28,
   "id": "e35c5363-5f6d-4042-889a-92f2f5b29b2d",
   "metadata": {},
   "outputs": [
    {
     "data": {
      "application/vnd.jupyter.widget-view+json": {
       "model_id": "54c0f6bfb499484c8c0aa39423c813c4",
       "version_major": 2,
       "version_minor": 0
      },
      "text/plain": [
       "Saving the dataset (0/1 shards):   0%|          | 0/15444 [00:00<?, ? examples/s]"
      ]
     },
     "metadata": {},
     "output_type": "display_data"
    },
    {
     "data": {
      "application/vnd.jupyter.widget-view+json": {
       "model_id": "ebb50d2d8ae240f48d018dc5852da3f0",
       "version_major": 2,
       "version_minor": 0
      },
      "text/plain": [
       "Saving the dataset (0/1 shards):   0%|          | 0/3309 [00:00<?, ? examples/s]"
      ]
     },
     "metadata": {},
     "output_type": "display_data"
    },
    {
     "data": {
      "application/vnd.jupyter.widget-view+json": {
       "model_id": "f29ca7d3f41c41b4b01d4a6ccddeb8a8",
       "version_major": 2,
       "version_minor": 0
      },
      "text/plain": [
       "Saving the dataset (0/1 shards):   0%|          | 0/3310 [00:00<?, ? examples/s]"
      ]
     },
     "metadata": {},
     "output_type": "display_data"
    }
   ],
   "source": [
    "meta_dataset_df.to_csv(f\"{root_dataset_dir}/meta_df.csv\", index=False)\n",
    "datasets.save_to_disk(f\"{root_dataset_dir}/dataset\")"
   ]
  }
 ],
 "metadata": {
  "kernelspec": {
   "display_name": "Python 3 (ipykernel)",
   "language": "python",
   "name": "python3"
  },
  "language_info": {
   "codemirror_mode": {
    "name": "ipython",
    "version": 3
   },
   "file_extension": ".py",
   "mimetype": "text/x-python",
   "name": "python",
   "nbconvert_exporter": "python",
   "pygments_lexer": "ipython3",
   "version": "3.10.13"
  }
 },
 "nbformat": 4,
 "nbformat_minor": 5
}
