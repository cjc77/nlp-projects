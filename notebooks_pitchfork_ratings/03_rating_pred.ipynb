{
 "cells": [
  {
   "cell_type": "markdown",
   "id": "c533ea7b-b3c7-4a65-a4f8-83a21182e918",
   "metadata": {},
   "source": [
    "[<< Previous: Data Exploration](02_data_explore.ipynb) &nbsp; | &nbsp; [Next: Fit Analysis >>](04_fit_analysis.ipynb)"
   ]
  },
  {
   "cell_type": "code",
   "execution_count": 1,
   "id": "19bf0c32-abf2-4170-8b46-93288e4fc514",
   "metadata": {},
   "outputs": [],
   "source": [
    "import numpy as np\n",
    "import yaml\n",
    "import multiprocessing\n",
    "import gc\n",
    "import warnings\n",
    "\n",
    "import torch\n",
    "import lightning.pytorch as pl\n",
    "from torch.utils.data import DataLoader\n",
    "from lightning.pytorch.callbacks import RichProgressBar, ModelCheckpoint\n",
    "from lightning.pytorch.loggers import TensorBoardLogger, CSVLogger\n",
    "from lightning.pytorch.utilities.model_summary import ModelSummary\n",
    "from transformers import AutoModel, AutoTokenizer\n",
    "from datasets import load_from_disk\n",
    "\n",
    "from myutilpy.models.text_regressor import TextRegressor, LitTextRegressor\n",
    "from myutilpy.models.pooling import pooling_fns, pool_cls, pool_mean"
   ]
  },
  {
   "cell_type": "code",
   "execution_count": 2,
   "id": "a233a63a-b9b9-43a4-845e-bcf963c1a3c0",
   "metadata": {},
   "outputs": [],
   "source": [
    "warnings.filterwarnings(\"ignore\", \".*does not have many workers.*\")\n",
    "warnings.filterwarnings(\"ignore\", \".*Detected KeyboardInterrupt, attempting graceful shutdown.*\")"
   ]
  },
  {
   "cell_type": "code",
   "execution_count": 3,
   "id": "9b868704-6b23-4a24-84a6-fe4077833f96",
   "metadata": {},
   "outputs": [],
   "source": [
    "num_cores_avail = max(1, multiprocessing.cpu_count() - 1)"
   ]
  },
  {
   "cell_type": "code",
   "execution_count": 4,
   "id": "3a5c4fdf-c606-448d-b2d2-5dcef3203bef",
   "metadata": {},
   "outputs": [],
   "source": [
    "config_id = \"mlml6_rate_pred_clsp\""
   ]
  },
  {
   "cell_type": "code",
   "execution_count": 5,
   "id": "2993eeb5-c0e8-4d4a-a1e2-72ff2042e572",
   "metadata": {},
   "outputs": [],
   "source": [
    "with open(f\"../experiments/configs/{config_id}/main.yaml\", 'r') as f:\n",
    "    main_config = yaml.safe_load(f)\n",
    "\n",
    "with open(f\"../experiments/configs/{config_id}/model.yaml\", 'r') as f:\n",
    "    model_config = yaml.safe_load(f)"
   ]
  },
  {
   "cell_type": "code",
   "execution_count": 6,
   "id": "714dcbe9-12ca-468f-96d4-231667e559a8",
   "metadata": {},
   "outputs": [],
   "source": [
    "dataset_checkpoint = main_config[\"dataset_checkpoint\"]\n",
    "dataset_checkpoint_revision = main_config[\"dataset_checkpoint_revision\"]\n",
    "pt_model_checkpoint = main_config[\"pt_model_checkpoint\"]\n",
    "pt_model_checkpoint_revision = main_config[\"pt_model_checkpoint_revision\"]\n",
    "dataset_id = main_config[\"dataset_id\"]\n",
    "frozen_model_checkpoint_path = model_config[\"frozen_model_checkpoint_path\"]\n",
    "finetune_model_checkpoint_path = model_config[\"finetune_model_checkpoint_path\"]"
   ]
  },
  {
   "cell_type": "code",
   "execution_count": 7,
   "id": "9d42f506-1222-4a62-bba7-7717ceb99f57",
   "metadata": {},
   "outputs": [],
   "source": [
    "embedding_model = AutoModel.from_pretrained(\n",
    "    pt_model_checkpoint,\n",
    "    revision=pt_model_checkpoint_revision\n",
    ")\n",
    "\n",
    "tokenizer = AutoTokenizer.from_pretrained(\n",
    "    pt_model_checkpoint,\n",
    "    revision=pt_model_checkpoint_revision\n",
    ")\n",
    "\n",
    "datasets = load_from_disk(f\"../data/pitchfork/{dataset_id}/dataset\")"
   ]
  },
  {
   "cell_type": "code",
   "execution_count": 8,
   "id": "61e5339d-c556-45e5-b547-6916170f6fc9",
   "metadata": {},
   "outputs": [],
   "source": [
    "keeper_cols = [\"artist\", \"album\", \"year_released\", \"rating\", \"input_ids\", \"attention_mask\"]\n",
    "drop_cols = set(datasets[\"train\"].column_names).difference(set(keeper_cols))"
   ]
  },
  {
   "cell_type": "code",
   "execution_count": 9,
   "id": "993f416c-d209-47e3-a701-f33082f1857c",
   "metadata": {},
   "outputs": [],
   "source": [
    "tokenized_datasets = (\n",
    "    datasets\n",
    "        .map(lambda examples: tokenizer(examples[\"review\"], padding=True, truncation=True), batched=True, num_proc=num_cores_avail)\n",
    "        .remove_columns(drop_cols)\n",
    ")"
   ]
  },
  {
   "cell_type": "code",
   "execution_count": 10,
   "id": "749908e3-02d6-4aa8-9834-5379af5959ca",
   "metadata": {},
   "outputs": [],
   "source": [
    "frozen_epochs = 20\n",
    "finetune_epochs = 10\n",
    "batch_size = 16\n",
    "accelerator = \"gpu\" if torch.cuda.is_available() else \"cpu\""
   ]
  },
  {
   "cell_type": "code",
   "execution_count": 11,
   "id": "e2d26608-f5da-4be4-bfa4-f8c384ed2fb6",
   "metadata": {},
   "outputs": [],
   "source": [
    "def collate_reviews(batch):\n",
    "    # Extract input_ids and labels from the batch\n",
    "    input_ids = [item['input_ids'] for item in batch]\n",
    "    attention_masks = [item['attention_mask'] for item in batch]\n",
    "    ratings = [item['rating'] for item in batch]\n",
    "\n",
    "    input_ids = torch.tensor(input_ids)\n",
    "    attention_masks = torch.tensor(attention_masks)\n",
    "    ratings = torch.tensor(ratings)\n",
    "\n",
    "    return input_ids, attention_masks, ratings"
   ]
  },
  {
   "cell_type": "code",
   "execution_count": 12,
   "id": "f109e655-fe2e-42a9-bb6f-c5c84a0fb80a",
   "metadata": {},
   "outputs": [],
   "source": [
    "train_dataloader = DataLoader(tokenized_datasets[\"train\"], batch_size=batch_size, collate_fn=collate_reviews, shuffle=True)\n",
    "valid_dataloader = DataLoader(tokenized_datasets[\"validation\"], batch_size=batch_size, collate_fn=collate_reviews)\n",
    "test_dataloader = DataLoader(tokenized_datasets[\"test\"], batch_size=batch_size, collate_fn=collate_reviews)\n",
    "\n",
    "# # Random subsets for quick development\n",
    "# train_dataloader = DataLoader(tokenized_datasets[\"train\"].shuffle(seed=42).select(range(1500)), batch_size=batch_size, collate_fn=collate_reviews, shuffle=True)\n",
    "# valid_dataloader = DataLoader(tokenized_datasets[\"validation\"].shuffle(seed=42).select(range(1500)), batch_size=batch_size, collate_fn=collate_reviews)\n",
    "# test_dataloader = DataLoader(tokenized_datasets[\"test\"].shuffle(seed=42).select(range(1500)), batch_size=batch_size, collate_fn=collate_reviews)"
   ]
  },
  {
   "cell_type": "markdown",
   "id": "9068dd9a-c5e2-43c6-851f-dde2dda1eaab",
   "metadata": {},
   "source": [
    "# Quick checks"
   ]
  },
  {
   "cell_type": "code",
   "execution_count": 13,
   "id": "1785ce37-73af-4261-81c8-8ec4e63c8a5d",
   "metadata": {},
   "outputs": [],
   "source": [
    "for batch_idx, batch in enumerate(valid_dataloader):\n",
    "    input_ids, attention_masks, ratings = batch\n",
    "    break"
   ]
  },
  {
   "cell_type": "code",
   "execution_count": 14,
   "id": "6929f59d-2b5d-4c71-9daf-c629ccbce19c",
   "metadata": {},
   "outputs": [],
   "source": [
    "with torch.no_grad():\n",
    "    embedding = embedding_model(input_ids=input_ids, attention_mask=attention_masks).last_hidden_state\n",
    "mp_embedding = pool_mean(embedding, attention_masks)\n",
    "cp_embedding = pool_cls(embedding, attention_masks)"
   ]
  },
  {
   "cell_type": "code",
   "execution_count": 15,
   "id": "607e4c9f-2cf1-4bfe-9df8-efe19d909028",
   "metadata": {},
   "outputs": [
    {
     "name": "stdout",
     "output_type": "stream",
     "text": [
      "torch.Size([16, 384])\n",
      "torch.Size([16, 384])\n"
     ]
    }
   ],
   "source": [
    "print(mp_embedding.shape)\n",
    "print(cp_embedding.shape)"
   ]
  },
  {
   "cell_type": "markdown",
   "id": "849061ec-4fc6-4470-978a-db65d087199f",
   "metadata": {},
   "source": [
    "# Setup"
   ]
  },
  {
   "cell_type": "code",
   "execution_count": 16,
   "id": "13f80ce5-0fcf-4704-b35a-6ef5d423a0aa",
   "metadata": {},
   "outputs": [
    {
     "name": "stderr",
     "output_type": "stream",
     "text": [
      "Using 16bit Automatic Mixed Precision (AMP)\n",
      "GPU available: True (cuda), used: True\n",
      "TPU available: False, using: 0 TPU cores\n",
      "IPU available: False, using: 0 IPUs\n",
      "HPU available: False, using: 0 HPUs\n"
     ]
    }
   ],
   "source": [
    "results_base = f\"../experiments/results/{config_id}\"\n",
    "\n",
    "csv_logger = CSVLogger(results_base, \"frozen_lightning_logs\")\n",
    "tb_logger = TensorBoardLogger(results_base, name=\"frozen_tb_logs\")\n",
    "frozen_model_checkpointer = ModelCheckpoint(\n",
    "    f\"{results_base}/frozen_checkpoints/version_{csv_logger.version}\",\n",
    "    filename=\"checkpoint\",\n",
    "    monitor=\"avg_val_loss\",\n",
    "    mode=\"min\",\n",
    "    save_top_k=1\n",
    ")\n",
    "\n",
    "loggers = [csv_logger, tb_logger]\n",
    "callbacks = [frozen_model_checkpointer, RichProgressBar()]\n",
    "\n",
    "if frozen_model_checkpoint_path is not None:\n",
    "    checkpoint = torch.load(f\"../{frozen_model_checkpoint_path}\")\n",
    "    # Account for zero indexing\n",
    "    frozen_epochs = checkpoint[\"epoch\"] + 1\n",
    "\n",
    "frozen_trainer = pl.Trainer(\n",
    "    max_epochs=frozen_epochs,\n",
    "    accelerator=accelerator,\n",
    "    callbacks=callbacks,\n",
    "    precision=\"16-mixed\",\n",
    "    logger=loggers\n",
    ")"
   ]
  },
  {
   "cell_type": "code",
   "execution_count": 17,
   "id": "ce37ecf8-030c-4e97-b49c-6917e4732070",
   "metadata": {},
   "outputs": [],
   "source": [
    "tr_model = TextRegressor(\n",
    "    embedding_model,\n",
    "    embed_dim=embedding_model.config.hidden_size,\n",
    "    pooling_fn=pooling_fns[model_config[\"pooling\"]]\n",
    ")"
   ]
  },
  {
   "cell_type": "markdown",
   "id": "eee2cf27-56a7-4765-83e0-e624ded5692c",
   "metadata": {},
   "source": [
    "# Frozen training"
   ]
  },
  {
   "cell_type": "code",
   "execution_count": 18,
   "id": "ea3f7f87-1f08-4f9f-b8a3-803786c0c4e6",
   "metadata": {},
   "outputs": [],
   "source": [
    "lit_model = LitTextRegressor(tr_model)\n",
    "lit_model.freeze_pretrained_model()"
   ]
  },
  {
   "cell_type": "code",
   "execution_count": 19,
   "id": "4220bf6a-4fc5-4aea-8679-a1f9aa416e17",
   "metadata": {},
   "outputs": [
    {
     "data": {
      "text/plain": [
       "  | Name           | Type          | Params\n",
       "-------------------------------------------------\n",
       "0 | text_regressor | TextRegressor | 22.7 M\n",
       "-------------------------------------------------\n",
       "385       Trainable params\n",
       "22.7 M    Non-trainable params\n",
       "22.7 M    Total params\n",
       "90.854    Total estimated model params size (MB)"
      ]
     },
     "execution_count": 19,
     "metadata": {},
     "output_type": "execute_result"
    }
   ],
   "source": [
    "ModelSummary(lit_model)"
   ]
  },
  {
   "cell_type": "code",
   "execution_count": 20,
   "id": "8da17839-011e-478c-9ecd-9bfb3ea22269",
   "metadata": {},
   "outputs": [
    {
     "name": "stderr",
     "output_type": "stream",
     "text": [
      "Restoring states from the checkpoint path at ../experiments/results/mlml6_rate_pred_clsp/frozen_checkpoints/version_0/checkpoint.ckpt\n"
     ]
    },
    {
     "name": "stdout",
     "output_type": "stream",
     "text": [
      "Loading checkpoint from: experiments/results/mlml6_rate_pred_clsp/frozen_checkpoints/version_0/checkpoint.ckpt\n"
     ]
    },
    {
     "name": "stderr",
     "output_type": "stream",
     "text": [
      "/home/carcook/anaconda3/envs/nlp-projects-env/lib/python3.10/site-packages/lightning/pytorch/callbacks/model_checkpoint.py:337: UserWarning: The dirpath has changed from '/home/carcook/dev/nlp-projects/experiments/results/mlml6_rate_pred_clsp/frozen_checkpoints/version_0' to '/home/carcook/dev/nlp-projects/experiments/results/mlml6_rate_pred_clsp/frozen_checkpoints/version_1', therefore `best_model_score`, `kth_best_model_path`, `kth_value`, `last_model_path` and `best_k_models` won't be reloaded. Only `best_model_path` will be reloaded.\n",
      "  warnings.warn(\n",
      "LOCAL_RANK: 0 - CUDA_VISIBLE_DEVICES: [0]\n"
     ]
    },
    {
     "data": {
      "text/html": [
       "<pre style=\"white-space:pre;overflow-x:auto;line-height:normal;font-family:Menlo,'DejaVu Sans Mono',consolas,'Courier New',monospace\">┏━━━┳━━━━━━━━━━━━━━━━┳━━━━━━━━━━━━━━━┳━━━━━━━━┓\n",
       "┃<span style=\"color: #800080; text-decoration-color: #800080; font-weight: bold\">   </span>┃<span style=\"color: #800080; text-decoration-color: #800080; font-weight: bold\"> Name           </span>┃<span style=\"color: #800080; text-decoration-color: #800080; font-weight: bold\"> Type          </span>┃<span style=\"color: #800080; text-decoration-color: #800080; font-weight: bold\"> Params </span>┃\n",
       "┡━━━╇━━━━━━━━━━━━━━━━╇━━━━━━━━━━━━━━━╇━━━━━━━━┩\n",
       "│<span style=\"color: #7f7f7f; text-decoration-color: #7f7f7f\"> 0 </span>│ text_regressor │ TextRegressor │ 22.7 M │\n",
       "└───┴────────────────┴───────────────┴────────┘\n",
       "</pre>\n"
      ],
      "text/plain": [
       "┏━━━┳━━━━━━━━━━━━━━━━┳━━━━━━━━━━━━━━━┳━━━━━━━━┓\n",
       "┃\u001b[1;35m \u001b[0m\u001b[1;35m \u001b[0m\u001b[1;35m \u001b[0m┃\u001b[1;35m \u001b[0m\u001b[1;35mName          \u001b[0m\u001b[1;35m \u001b[0m┃\u001b[1;35m \u001b[0m\u001b[1;35mType         \u001b[0m\u001b[1;35m \u001b[0m┃\u001b[1;35m \u001b[0m\u001b[1;35mParams\u001b[0m\u001b[1;35m \u001b[0m┃\n",
       "┡━━━╇━━━━━━━━━━━━━━━━╇━━━━━━━━━━━━━━━╇━━━━━━━━┩\n",
       "│\u001b[2m \u001b[0m\u001b[2m0\u001b[0m\u001b[2m \u001b[0m│ text_regressor │ TextRegressor │ 22.7 M │\n",
       "└───┴────────────────┴───────────────┴────────┘\n"
      ]
     },
     "metadata": {},
     "output_type": "display_data"
    },
    {
     "data": {
      "text/html": [
       "<pre style=\"white-space:pre;overflow-x:auto;line-height:normal;font-family:Menlo,'DejaVu Sans Mono',consolas,'Courier New',monospace\"><span style=\"font-weight: bold\">Trainable params</span>: 385                                                                                              \n",
       "<span style=\"font-weight: bold\">Non-trainable params</span>: 22.7 M                                                                                       \n",
       "<span style=\"font-weight: bold\">Total params</span>: 22.7 M                                                                                               \n",
       "<span style=\"font-weight: bold\">Total estimated model params size (MB)</span>: 90                                                                         \n",
       "</pre>\n"
      ],
      "text/plain": [
       "\u001b[1mTrainable params\u001b[0m: 385                                                                                              \n",
       "\u001b[1mNon-trainable params\u001b[0m: 22.7 M                                                                                       \n",
       "\u001b[1mTotal params\u001b[0m: 22.7 M                                                                                               \n",
       "\u001b[1mTotal estimated model params size (MB)\u001b[0m: 90                                                                         \n"
      ]
     },
     "metadata": {},
     "output_type": "display_data"
    },
    {
     "name": "stderr",
     "output_type": "stream",
     "text": [
      "Restored all states from the checkpoint at ../experiments/results/mlml6_rate_pred_clsp/frozen_checkpoints/version_0/checkpoint.ckpt\n"
     ]
    },
    {
     "data": {
      "application/vnd.jupyter.widget-view+json": {
       "model_id": "62f5b7c151d84525bdc105846dbc38f0",
       "version_major": 2,
       "version_minor": 0
      },
      "text/plain": [
       "Output()"
      ]
     },
     "metadata": {},
     "output_type": "display_data"
    },
    {
     "name": "stderr",
     "output_type": "stream",
     "text": [
      "`Trainer.fit` stopped: `max_epochs=20` reached.\n"
     ]
    },
    {
     "data": {
      "text/html": [
       "<pre style=\"white-space:pre;overflow-x:auto;line-height:normal;font-family:Menlo,'DejaVu Sans Mono',consolas,'Courier New',monospace\"></pre>\n"
      ],
      "text/plain": []
     },
     "metadata": {},
     "output_type": "display_data"
    },
    {
     "data": {
      "text/html": [
       "<pre style=\"white-space:pre;overflow-x:auto;line-height:normal;font-family:Menlo,'DejaVu Sans Mono',consolas,'Courier New',monospace\">\n",
       "</pre>\n"
      ],
      "text/plain": [
       "\n"
      ]
     },
     "metadata": {},
     "output_type": "display_data"
    }
   ],
   "source": [
    "if frozen_model_checkpoint_path is not None:\n",
    "    print(f\"Loading checkpoint from: {frozen_model_checkpoint_path}\")\n",
    "    frozen_trainer.fit(\n",
    "        model=lit_model,\n",
    "        ckpt_path=f\"../{frozen_model_checkpoint_path}\",\n",
    "        train_dataloaders=train_dataloader,\n",
    "        val_dataloaders=valid_dataloader\n",
    "    )\n",
    "else:\n",
    "    print(f\"Training from scratch\")\n",
    "    frozen_trainer.fit(\n",
    "        model=lit_model,\n",
    "        train_dataloaders=train_dataloader,\n",
    "        val_dataloaders=valid_dataloader\n",
    "    )"
   ]
  },
  {
   "cell_type": "markdown",
   "id": "23d61b36-2ea3-4022-9a95-7ea2dcbf6613",
   "metadata": {},
   "source": [
    "# Unfrozen fine-tuning"
   ]
  },
  {
   "cell_type": "code",
   "execution_count": 21,
   "id": "28e3797f-dd59-4446-a81b-a1dce8fa6e90",
   "metadata": {},
   "outputs": [],
   "source": [
    "# Free GPU memory\n",
    "del lit_model\n",
    "gc.collect()\n",
    "torch.cuda.empty_cache()"
   ]
  },
  {
   "cell_type": "code",
   "execution_count": 22,
   "id": "00c3e33a-6be5-4511-87ca-fb1544c6cb42",
   "metadata": {},
   "outputs": [
    {
     "data": {
      "text/plain": [
       "'/home/carcook/dev/nlp-projects/experiments/results/mlml6_rate_pred_clsp/frozen_checkpoints/version_0/checkpoint.ckpt'"
      ]
     },
     "execution_count": 22,
     "metadata": {},
     "output_type": "execute_result"
    }
   ],
   "source": [
    "frozen_trainer.checkpoint_callback.best_model_path"
   ]
  },
  {
   "cell_type": "code",
   "execution_count": 23,
   "id": "278f34ab-4c43-4647-9107-91abaa5e2936",
   "metadata": {},
   "outputs": [],
   "source": [
    "lit_model = LitTextRegressor.load_from_checkpoint(\n",
    "    frozen_trainer.checkpoint_callback.best_model_path,\n",
    "    # \"../experiments/results/pitchfork_cls/frozen_checkpoints/version_0/checkpoint.ckpt\",\n",
    "    text_regressor = tr_model\n",
    ")"
   ]
  },
  {
   "cell_type": "code",
   "execution_count": 24,
   "id": "03e71598-93db-4717-a02b-042f9a3cd35b",
   "metadata": {},
   "outputs": [],
   "source": [
    "lit_model.unfreeze_pretrained_model()"
   ]
  },
  {
   "cell_type": "code",
   "execution_count": 25,
   "id": "2163f39c-5502-44b4-b7b7-04c9594c02a0",
   "metadata": {},
   "outputs": [
    {
     "data": {
      "text/plain": [
       "  | Name           | Type          | Params\n",
       "-------------------------------------------------\n",
       "0 | text_regressor | TextRegressor | 22.7 M\n",
       "-------------------------------------------------\n",
       "22.7 M    Trainable params\n",
       "0         Non-trainable params\n",
       "22.7 M    Total params\n",
       "90.854    Total estimated model params size (MB)"
      ]
     },
     "execution_count": 25,
     "metadata": {},
     "output_type": "execute_result"
    }
   ],
   "source": [
    "ModelSummary(lit_model)"
   ]
  },
  {
   "cell_type": "code",
   "execution_count": 26,
   "id": "b0a5df1f-2899-4ed7-af59-859e923a2e59",
   "metadata": {},
   "outputs": [
    {
     "data": {
      "text/plain": [
       "'mlml6_rate_pred_clsp'"
      ]
     },
     "execution_count": 26,
     "metadata": {},
     "output_type": "execute_result"
    }
   ],
   "source": [
    "config_id"
   ]
  },
  {
   "cell_type": "code",
   "execution_count": 27,
   "id": "a623613f-cd1c-401c-814c-a835b4bb5819",
   "metadata": {},
   "outputs": [
    {
     "name": "stderr",
     "output_type": "stream",
     "text": [
      "Using 16bit Automatic Mixed Precision (AMP)\n",
      "GPU available: True (cuda), used: True\n",
      "TPU available: False, using: 0 TPU cores\n",
      "IPU available: False, using: 0 IPUs\n",
      "HPU available: False, using: 0 HPUs\n"
     ]
    }
   ],
   "source": [
    "results_base = f\"../experiments/results/{config_id}\"\n",
    "csv_logger = CSVLogger(results_base, \"finetune_lightning_logs\")\n",
    "tb_logger = TensorBoardLogger(results_base, name=\"finetune_tb_logs\")\n",
    "finetune_model_checkpointer = ModelCheckpoint(\n",
    "    f\"{results_base}/finetune_checkpoints/version_{csv_logger.version}\",\n",
    "    filename=\"finetune_checkpoint\",\n",
    "    monitor=\"avg_val_loss\",\n",
    "    mode=\"min\",\n",
    "    save_top_k=1\n",
    ")\n",
    "\n",
    "loggers = [csv_logger, tb_logger]\n",
    "callbacks = [finetune_model_checkpointer, RichProgressBar()]\n",
    "\n",
    "if finetune_model_checkpoint_path is not None:\n",
    "    checkpoint = torch.load(f\"../{finetune_model_checkpoint_path}\")\n",
    "    # Account for zero indexing\n",
    "    finetune_epochs = checkpoint[\"epoch\"] + 1\n",
    "\n",
    "finetune_trainer = pl.Trainer(\n",
    "    max_epochs=finetune_epochs,\n",
    "    accelerator=accelerator,\n",
    "    callbacks=callbacks,\n",
    "    precision=\"16-mixed\",\n",
    "    logger=loggers\n",
    ")"
   ]
  },
  {
   "cell_type": "code",
   "execution_count": 28,
   "id": "7ec0c2c9-8dd0-4432-b5cc-5942bb48816b",
   "metadata": {},
   "outputs": [
    {
     "name": "stderr",
     "output_type": "stream",
     "text": [
      "Restoring states from the checkpoint path at ../experiments/results/mlml6_rate_pred_clsp/finetune_checkpoints/version_0/finetune_checkpoint.ckpt\n"
     ]
    },
    {
     "name": "stdout",
     "output_type": "stream",
     "text": [
      "Loading checkpoint from: experiments/results/mlml6_rate_pred_clsp/frozen_checkpoints/version_0/checkpoint.ckpt\n"
     ]
    },
    {
     "name": "stderr",
     "output_type": "stream",
     "text": [
      "/home/carcook/anaconda3/envs/nlp-projects-env/lib/python3.10/site-packages/lightning/pytorch/callbacks/model_checkpoint.py:337: UserWarning: The dirpath has changed from '/home/carcook/dev/nlp-projects/experiments/results/mlml6_rate_pred_clsp/finetune_checkpoints/version_0' to '/home/carcook/dev/nlp-projects/experiments/results/mlml6_rate_pred_clsp/finetune_checkpoints/version_1', therefore `best_model_score`, `kth_best_model_path`, `kth_value`, `last_model_path` and `best_k_models` won't be reloaded. Only `best_model_path` will be reloaded.\n",
      "  warnings.warn(\n",
      "LOCAL_RANK: 0 - CUDA_VISIBLE_DEVICES: [0]\n"
     ]
    },
    {
     "data": {
      "text/html": [
       "<pre style=\"white-space:pre;overflow-x:auto;line-height:normal;font-family:Menlo,'DejaVu Sans Mono',consolas,'Courier New',monospace\">┏━━━┳━━━━━━━━━━━━━━━━┳━━━━━━━━━━━━━━━┳━━━━━━━━┓\n",
       "┃<span style=\"color: #800080; text-decoration-color: #800080; font-weight: bold\">   </span>┃<span style=\"color: #800080; text-decoration-color: #800080; font-weight: bold\"> Name           </span>┃<span style=\"color: #800080; text-decoration-color: #800080; font-weight: bold\"> Type          </span>┃<span style=\"color: #800080; text-decoration-color: #800080; font-weight: bold\"> Params </span>┃\n",
       "┡━━━╇━━━━━━━━━━━━━━━━╇━━━━━━━━━━━━━━━╇━━━━━━━━┩\n",
       "│<span style=\"color: #7f7f7f; text-decoration-color: #7f7f7f\"> 0 </span>│ text_regressor │ TextRegressor │ 22.7 M │\n",
       "└───┴────────────────┴───────────────┴────────┘\n",
       "</pre>\n"
      ],
      "text/plain": [
       "┏━━━┳━━━━━━━━━━━━━━━━┳━━━━━━━━━━━━━━━┳━━━━━━━━┓\n",
       "┃\u001b[1;35m \u001b[0m\u001b[1;35m \u001b[0m\u001b[1;35m \u001b[0m┃\u001b[1;35m \u001b[0m\u001b[1;35mName          \u001b[0m\u001b[1;35m \u001b[0m┃\u001b[1;35m \u001b[0m\u001b[1;35mType         \u001b[0m\u001b[1;35m \u001b[0m┃\u001b[1;35m \u001b[0m\u001b[1;35mParams\u001b[0m\u001b[1;35m \u001b[0m┃\n",
       "┡━━━╇━━━━━━━━━━━━━━━━╇━━━━━━━━━━━━━━━╇━━━━━━━━┩\n",
       "│\u001b[2m \u001b[0m\u001b[2m0\u001b[0m\u001b[2m \u001b[0m│ text_regressor │ TextRegressor │ 22.7 M │\n",
       "└───┴────────────────┴───────────────┴────────┘\n"
      ]
     },
     "metadata": {},
     "output_type": "display_data"
    },
    {
     "data": {
      "text/html": [
       "<pre style=\"white-space:pre;overflow-x:auto;line-height:normal;font-family:Menlo,'DejaVu Sans Mono',consolas,'Courier New',monospace\"><span style=\"font-weight: bold\">Trainable params</span>: 22.7 M                                                                                           \n",
       "<span style=\"font-weight: bold\">Non-trainable params</span>: 0                                                                                            \n",
       "<span style=\"font-weight: bold\">Total params</span>: 22.7 M                                                                                               \n",
       "<span style=\"font-weight: bold\">Total estimated model params size (MB)</span>: 90                                                                         \n",
       "</pre>\n"
      ],
      "text/plain": [
       "\u001b[1mTrainable params\u001b[0m: 22.7 M                                                                                           \n",
       "\u001b[1mNon-trainable params\u001b[0m: 0                                                                                            \n",
       "\u001b[1mTotal params\u001b[0m: 22.7 M                                                                                               \n",
       "\u001b[1mTotal estimated model params size (MB)\u001b[0m: 90                                                                         \n"
      ]
     },
     "metadata": {},
     "output_type": "display_data"
    },
    {
     "name": "stderr",
     "output_type": "stream",
     "text": [
      "Restored all states from the checkpoint at ../experiments/results/mlml6_rate_pred_clsp/finetune_checkpoints/version_0/finetune_checkpoint.ckpt\n"
     ]
    },
    {
     "data": {
      "application/vnd.jupyter.widget-view+json": {
       "model_id": "e86191c5436449ffa5917af0e9489ae5",
       "version_major": 2,
       "version_minor": 0
      },
      "text/plain": [
       "Output()"
      ]
     },
     "metadata": {},
     "output_type": "display_data"
    },
    {
     "name": "stderr",
     "output_type": "stream",
     "text": [
      "`Trainer.fit` stopped: `max_epochs=3` reached.\n"
     ]
    },
    {
     "data": {
      "text/html": [
       "<pre style=\"white-space:pre;overflow-x:auto;line-height:normal;font-family:Menlo,'DejaVu Sans Mono',consolas,'Courier New',monospace\"></pre>\n"
      ],
      "text/plain": []
     },
     "metadata": {},
     "output_type": "display_data"
    },
    {
     "data": {
      "text/html": [
       "<pre style=\"white-space:pre;overflow-x:auto;line-height:normal;font-family:Menlo,'DejaVu Sans Mono',consolas,'Courier New',monospace\">\n",
       "</pre>\n"
      ],
      "text/plain": [
       "\n"
      ]
     },
     "metadata": {},
     "output_type": "display_data"
    }
   ],
   "source": [
    "if finetune_model_checkpoint_path is not None:\n",
    "    print(f\"Loading checkpoint from: {frozen_model_checkpoint_path}\")\n",
    "    finetune_trainer.fit(\n",
    "        model=lit_model,\n",
    "        ckpt_path=f\"../{finetune_model_checkpoint_path}\",\n",
    "        train_dataloaders=train_dataloader,\n",
    "        val_dataloaders=valid_dataloader\n",
    "    )\n",
    "else:\n",
    "    print(f\"Training from scratch\")\n",
    "    finetune_trainer.fit(\n",
    "        model=lit_model,\n",
    "        train_dataloaders=train_dataloader,\n",
    "        val_dataloaders=valid_dataloader\n",
    "    )"
   ]
  },
  {
   "cell_type": "code",
   "execution_count": 29,
   "id": "b24f3b86-4fdb-4074-8437-1505af637a2e",
   "metadata": {},
   "outputs": [
    {
     "name": "stderr",
     "output_type": "stream",
     "text": [
      "Restoring states from the checkpoint path at /home/carcook/dev/nlp-projects/experiments/results/mlml6_rate_pred_clsp/finetune_checkpoints/version_0/finetune_checkpoint.ckpt\n",
      "LOCAL_RANK: 0 - CUDA_VISIBLE_DEVICES: [0]\n",
      "Loaded model weights from the checkpoint at /home/carcook/dev/nlp-projects/experiments/results/mlml6_rate_pred_clsp/finetune_checkpoints/version_0/finetune_checkpoint.ckpt\n"
     ]
    },
    {
     "data": {
      "application/vnd.jupyter.widget-view+json": {
       "model_id": "4c56b5f2af7b40a182a4992cfbb305a6",
       "version_major": 2,
       "version_minor": 0
      },
      "text/plain": [
       "Output()"
      ]
     },
     "metadata": {},
     "output_type": "display_data"
    },
    {
     "data": {
      "text/html": [
       "<pre style=\"white-space:pre;overflow-x:auto;line-height:normal;font-family:Menlo,'DejaVu Sans Mono',consolas,'Courier New',monospace\">┏━━━━━━━━━━━━━━━━━━━━━━━━━━━┳━━━━━━━━━━━━━━━━━━━━━━━━━━━┓\n",
       "┃<span style=\"font-weight: bold\">        Test metric        </span>┃<span style=\"font-weight: bold\">       DataLoader 0        </span>┃\n",
       "┡━━━━━━━━━━━━━━━━━━━━━━━━━━━╇━━━━━━━━━━━━━━━━━━━━━━━━━━━┩\n",
       "│<span style=\"color: #008080; text-decoration-color: #008080\">       avg_test_loss       </span>│<span style=\"color: #800080; text-decoration-color: #800080\">    0.8739522099494934     </span>│\n",
       "└───────────────────────────┴───────────────────────────┘\n",
       "</pre>\n"
      ],
      "text/plain": [
       "┏━━━━━━━━━━━━━━━━━━━━━━━━━━━┳━━━━━━━━━━━━━━━━━━━━━━━━━━━┓\n",
       "┃\u001b[1m \u001b[0m\u001b[1m       Test metric       \u001b[0m\u001b[1m \u001b[0m┃\u001b[1m \u001b[0m\u001b[1m      DataLoader 0       \u001b[0m\u001b[1m \u001b[0m┃\n",
       "┡━━━━━━━━━━━━━━━━━━━━━━━━━━━╇━━━━━━━━━━━━━━━━━━━━━━━━━━━┩\n",
       "│\u001b[36m \u001b[0m\u001b[36m      avg_test_loss      \u001b[0m\u001b[36m \u001b[0m│\u001b[35m \u001b[0m\u001b[35m   0.8739522099494934    \u001b[0m\u001b[35m \u001b[0m│\n",
       "└───────────────────────────┴───────────────────────────┘\n"
      ]
     },
     "metadata": {},
     "output_type": "display_data"
    },
    {
     "data": {
      "text/html": [
       "<pre style=\"white-space:pre;overflow-x:auto;line-height:normal;font-family:Menlo,'DejaVu Sans Mono',consolas,'Courier New',monospace\"></pre>\n"
      ],
      "text/plain": []
     },
     "metadata": {},
     "output_type": "display_data"
    },
    {
     "data": {
      "text/html": [
       "<pre style=\"white-space:pre;overflow-x:auto;line-height:normal;font-family:Menlo,'DejaVu Sans Mono',consolas,'Courier New',monospace\">\n",
       "</pre>\n"
      ],
      "text/plain": [
       "\n"
      ]
     },
     "metadata": {},
     "output_type": "display_data"
    },
    {
     "data": {
      "text/plain": [
       "[{'avg_test_loss': 0.8739522099494934}]"
      ]
     },
     "execution_count": 29,
     "metadata": {},
     "output_type": "execute_result"
    }
   ],
   "source": [
    "# Using test set instead of val set since val data were (somewhat)\n",
    "# used for model selection by helping make some design choices (e.g.,\n",
    "# pooling strategy) and in determining when overfitting occurred (e.g.,\n",
    "# deciding when to overwrite checkpoints).\n",
    "best_ft_checkpoint_path = finetune_trainer.checkpoint_callback.best_model_path\n",
    "finetune_trainer.test(lit_model, dataloaders=test_dataloader, ckpt_path=\"best\")"
   ]
  },
  {
   "cell_type": "code",
   "execution_count": 30,
   "id": "0447f646-8fd4-4d04-9e95-7cc13a47a54a",
   "metadata": {},
   "outputs": [
    {
     "name": "stdout",
     "output_type": "stream",
     "text": [
      "{'mse': 0.8739522, 'rmse': 0.9348541}\n"
     ]
    }
   ],
   "source": [
    "print(lit_model.test_epoch_metrics)"
   ]
  },
  {
   "cell_type": "markdown",
   "id": "5a428b55-463f-4407-a8fe-524ffd3389e4",
   "metadata": {},
   "source": [
    "[<< Previous: Data Exploration](02_data_explore.ipynb) &nbsp; | &nbsp; [Next: Fit Analysis >>](04_fit_analysis.ipynb)"
   ]
  }
 ],
 "metadata": {
  "kernelspec": {
   "display_name": "Python 3 (ipykernel)",
   "language": "python",
   "name": "python3"
  },
  "language_info": {
   "codemirror_mode": {
    "name": "ipython",
    "version": 3
   },
   "file_extension": ".py",
   "mimetype": "text/x-python",
   "name": "python",
   "nbconvert_exporter": "python",
   "pygments_lexer": "ipython3",
   "version": "3.10.13"
  }
 },
 "nbformat": 4,
 "nbformat_minor": 5
}
